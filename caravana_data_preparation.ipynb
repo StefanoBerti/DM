{
 "cells": [
  {
   "cell_type": "markdown",
   "metadata": {},
   "source": [
    "# Caravana Data Preparation"
   ]
  },
  {
   "cell_type": "code",
   "execution_count": 69,
   "metadata": {},
   "outputs": [],
   "source": [
    "import math\n",
    "import numpy as np\n",
    "import pandas as pd\n",
    "import scipy.stats as stats\n",
    "import matplotlib.pyplot as plt\n",
    "import itertools\n",
    "import datetime\n",
    "\n",
    "from collections import defaultdict\n",
    "from scipy.stats.stats import pearsonr\n",
    "\n",
    "# CAMBIATE IL PATH PER FARLO FUNZIONARE NEL VOSTRO PC\n",
    "df = pd.read_csv(\"./data/training_1st_corrections.csv\")\n",
    "\n",
    "\n",
    "def find_outliers(x, field, update=False):\n",
    "    global candidates_outlier # necessario global perchè lavoro su raggruppamenti\n",
    "    mode = x[field].mode()[0] if len(x[field].mode()) else np.NaN\n",
    "    for index, row in x.iterrows():\n",
    "        if row[field] != mode:\n",
    "            candidates_outlier = candidates_outlier.append(row, ignore_index=True)\n",
    "            if update:\n",
    "                df.loc[df.RefId == row.RefId,field] = mode\n",
    "    return candidates_outlier\n",
    "\n",
    "\n",
    "def random_sampling(column, size):\n",
    "    probabilities = column.value_counts(normalize=True)\n",
    "    if len(probabilities):\n",
    "        return pd.Series(np.random.choice(probabilities.index, size=size, p=probabilities.values))\n",
    "    else:\n",
    "        return pd.Series(([np.NaN]*size))\n",
    "\n",
    "    \n",
    "def _fillna_distribution_based(dataframe, column):\n",
    "    rows_null = dataframe[dataframe[column].isnull()]\n",
    "    l = len(rows_null)\n",
    "    if l > 0:\n",
    "        fillings = random_sampling(dataframe[column], l)\n",
    "        df.loc[df.RefId.isin(rows_null.RefId), column] = fillings.values\n",
    "\n",
    "\n",
    "def fillna_distribution(column):\n",
    "    _fillna_distribution_based(df, column)\n",
    "\n",
    "\n",
    "def fillna_group_distribution(groupby, column):\n",
    "    for group_name, group in df.groupby(groupby):\n",
    "        _fillna_distribution_based(group, column)"
   ]
  },
  {
   "cell_type": "code",
   "execution_count": 70,
   "metadata": {},
   "outputs": [
    {
     "name": "stdout",
     "output_type": "stream",
     "text": [
      "<class 'pandas.core.frame.DataFrame'>\n",
      "RangeIndex: 58386 entries, 0 to 58385\n",
      "Data columns (total 33 columns):\n",
      "RefId                                58386 non-null int64\n",
      "IsBadBuy                             58386 non-null int64\n",
      "PurchDate                            58386 non-null object\n",
      "Auction                              58386 non-null object\n",
      "VehicleAge                           58386 non-null int64\n",
      "Make                                 58386 non-null object\n",
      "Model                                58386 non-null object\n",
      "Trim                                 56475 non-null object\n",
      "SubModel                             58379 non-null object\n",
      "Color                                58379 non-null object\n",
      "Transmission                         58378 non-null object\n",
      "WheelTypeID                          55813 non-null float64\n",
      "WheelType                            55809 non-null object\n",
      "VehOdo                               58386 non-null int64\n",
      "Nationality                          58382 non-null object\n",
      "Size                                 58382 non-null object\n",
      "TopThreeAmericanName                 58382 non-null object\n",
      "MMRAcquisitionAuctionAveragePrice    58373 non-null float64\n",
      "MMRAcquisitionAuctionCleanPrice      58373 non-null float64\n",
      "MMRAcquisitionRetailAveragePrice     58373 non-null float64\n",
      "MMRAcquisitonRetailCleanPrice        58373 non-null float64\n",
      "MMRCurrentAuctionAveragePrice        58141 non-null float64\n",
      "MMRCurrentAuctionCleanPrice          58141 non-null float64\n",
      "MMRCurrentRetailAveragePrice         58141 non-null float64\n",
      "MMRCurrentRetailCleanPrice           58141 non-null float64\n",
      "VNZIP1                               58386 non-null int64\n",
      "VNST                                 58386 non-null object\n",
      "VehBCost                             58386 non-null float64\n",
      "IsOnlineSale                         58386 non-null int64\n",
      "WarrantyCost                         58386 non-null int64\n",
      "ModelSimple                          58386 non-null object\n",
      "Doors                                50540 non-null object\n",
      "USRegion                             58386 non-null object\n",
      "dtypes: float64(10), int64(7), object(16)\n",
      "memory usage: 14.7+ MB\n"
     ]
    }
   ],
   "source": [
    "df.info()"
   ]
  },
  {
   "cell_type": "markdown",
   "metadata": {},
   "source": [
    "Dopo aver valutato la qualità dei dati nel notebook precedente, ora possiamo effettuare alcune manipolazioni prima di passare all'analisi vera e propria."
   ]
  },
  {
   "cell_type": "markdown",
   "metadata": {},
   "source": [
    "## Eliminazione degli attributi non significativi"
   ]
  },
  {
   "cell_type": "markdown",
   "metadata": {},
   "source": [
    "Quanto detto sopra vale anche per gli attributi __WheelType__ e __WheelTypeID__. Manentiamo solo il primo."
   ]
  },
  {
   "cell_type": "code",
   "execution_count": 71,
   "metadata": {},
   "outputs": [],
   "source": [
    "del df['WheelTypeID']"
   ]
  },
  {
   "cell_type": "markdown",
   "metadata": {},
   "source": [
    "Gli attributi __VNZIP1__ e __VNST__ sono ridondanti e inoltre __VNZIP1__ ha troppi valori distinti riferiti ad uno stesso valore di __VNST__. In particolare il primo indica il codice postale e il secondo il paese di acquisot della macchina. Decidamo di mantenere __VNST__ per questioni di granularità."
   ]
  },
  {
   "cell_type": "code",
   "execution_count": 72,
   "metadata": {},
   "outputs": [],
   "source": [
    "del df['VNZIP1']"
   ]
  },
  {
   "cell_type": "markdown",
   "metadata": {},
   "source": [
    "Gli attributi __KickDate__ e __AcquisitionType__ menzionati nel dizionario del dataset non sono effettivamente presenti nel dataset stesso."
   ]
  },
  {
   "cell_type": "markdown",
   "metadata": {},
   "source": [
    "## Correzione di missing values ed errori semantici"
   ]
  },
  {
   "cell_type": "code",
   "execution_count": 73,
   "metadata": {},
   "outputs": [
    {
     "data": {
      "text/plain": [
       "RefId                                   0\n",
       "IsBadBuy                                0\n",
       "PurchDate                               0\n",
       "Auction                                 0\n",
       "VehicleAge                              0\n",
       "Make                                    0\n",
       "Model                                   0\n",
       "Trim                                 1911\n",
       "SubModel                                7\n",
       "Color                                   7\n",
       "Transmission                            8\n",
       "WheelType                            2577\n",
       "VehOdo                                  0\n",
       "Nationality                             4\n",
       "Size                                    4\n",
       "TopThreeAmericanName                    4\n",
       "MMRAcquisitionAuctionAveragePrice      13\n",
       "MMRAcquisitionAuctionCleanPrice        13\n",
       "MMRAcquisitionRetailAveragePrice       13\n",
       "MMRAcquisitonRetailCleanPrice          13\n",
       "MMRCurrentAuctionAveragePrice         245\n",
       "MMRCurrentAuctionCleanPrice           245\n",
       "MMRCurrentRetailAveragePrice          245\n",
       "MMRCurrentRetailCleanPrice            245\n",
       "VNST                                    0\n",
       "VehBCost                                0\n",
       "IsOnlineSale                            0\n",
       "WarrantyCost                            0\n",
       "ModelSimple                             0\n",
       "Doors                                7846\n",
       "USRegion                                0\n",
       "dtype: int64"
      ]
     },
     "execution_count": 73,
     "metadata": {},
     "output_type": "execute_result"
    }
   ],
   "source": [
    "df.isnull().sum()"
   ]
  },
  {
   "cell_type": "markdown",
   "metadata": {},
   "source": [
    "Correggiamo prima di tutto i 7 valori mancanti per l'attributo __SubModel__."
   ]
  },
  {
   "cell_type": "code",
   "execution_count": 74,
   "metadata": {},
   "outputs": [
    {
     "data": {
      "text/plain": [
       "23019       SEDAN LS 3.5L\n",
       "28280      PASSENGER 3.9L\n",
       "28961           SEDAN GT1\n",
       "33225            SUV 4.6L\n",
       "35224           COUPE R/T\n",
       "48641       SEDAN SXT FFV\n",
       "50661    CREW CAB 4.3L LS\n",
       "Name: SubModel, dtype: object"
      ]
     },
     "execution_count": 74,
     "metadata": {},
     "output_type": "execute_result"
    }
   ],
   "source": [
    "nullid = df[df['SubModel'].isnull()]['RefId']\n",
    "fillna_group_distribution(['Make', 'ModelSimple'],'SubModel')\n",
    "df[(df['RefId']).isin(nullid)]['SubModel']"
   ]
  },
  {
   "cell_type": "markdown",
   "metadata": {},
   "source": [
    "Andiamo a correggere i missing values presenti in __Trim__. Per farlo utilizziamo la funzione fillna_distribution che prende in input un raggruppamento degli attributi da cui prendere la moda da sostituire ai missing value.\n",
    "\n",
    "Anche senza un'approfondita conoscenza del dominio, ha senso ipotizzare che il livello di equipaggiamento di una macchina dipenda dal suo modello. Ricerche online confermano che ogni produttore ha la sua scala di Trim level che può variare anche da un modello all'altro della stessa casa produttrice."
   ]
  },
  {
   "cell_type": "code",
   "execution_count": 75,
   "metadata": {},
   "outputs": [],
   "source": [
    "notcorrected = df[df['Trim'].isnull()][['ModelSimple', 'SubModel', 'Trim']].copy(deep='True')\n",
    "\n",
    "fillna_group_distribution(['ModelSimple', 'SubModel'], 'Trim')"
   ]
  },
  {
   "cell_type": "code",
   "execution_count": 76,
   "metadata": {},
   "outputs": [
    {
     "data": {
      "text/plain": [
       "525"
      ]
     },
     "execution_count": 76,
     "metadata": {},
     "output_type": "execute_result"
    }
   ],
   "source": [
    "df['Trim'].isnull().sum()"
   ]
  },
  {
   "cell_type": "markdown",
   "metadata": {},
   "source": [
    "Per questi 525 record non è possibile inferire il livello di Trim usando __ModelSimple__ e __SubModel__. Siginifca che non esistono altre macchine con lo stesso modello e sotto modello che hanno un trim level non nullo."
   ]
  },
  {
   "cell_type": "markdown",
   "metadata": {},
   "source": [
    "A volte alcuni recordo hanno l'informazione sul trim level nel sotto modello, controlliamo"
   ]
  },
  {
   "cell_type": "code",
   "execution_count": 77,
   "metadata": {},
   "outputs": [
    {
     "data": {
      "text/plain": [
       "['HARDTOP JLS', 'CARGO EXT 3.5L LT', 'REG CAB 4.0L XL', 'SEDAN S']"
      ]
     },
     "execution_count": 77,
     "metadata": {},
     "output_type": "execute_result"
    }
   ],
   "source": [
    "sub_with_trim_missing=df[df['Trim'].isnull()]['SubModel'].unique()\n",
    "\n",
    "l = list()\n",
    "for x in df['Trim'].unique():\n",
    "    if x != np.NaN:\n",
    "        if not isinstance(x, str):\n",
    "            l.append(\" \"+str(x))\n",
    "        else:\n",
    "            l.append(\" \"+x)\n",
    "\n",
    "sub_to_fix=[x for x in sub_with_trim_missing if x.endswith(tuple(l))]\n",
    "sub_to_fix"
   ]
  },
  {
   "cell_type": "markdown",
   "metadata": {},
   "source": [
    "Possiamo fixare il trim missing per questi 4 SubModel."
   ]
  },
  {
   "cell_type": "code",
   "execution_count": 78,
   "metadata": {},
   "outputs": [],
   "source": [
    "df[(df['SubModel'].isin(sub_to_fix)) & df['Trim'].isnull()]\n",
    "df.loc[df['RefId']==38392, 'Trim']='JLS'\n",
    "df.loc[df['RefId']==31990, 'Trim']='LT'\n",
    "df.loc[df['RefId']==12681, 'Trim']='XL'\n",
    "df.loc[df['RefId']==22700, 'Trim']='S'\n",
    "df.loc[df['RefId']==47467, 'Trim']='S'"
   ]
  },
  {
   "cell_type": "markdown",
   "metadata": {},
   "source": [
    "Si potrebbe usare il pearson's chi squared per stimare la probabilità di trovare un determinato trim level in baseg ad ogni altro attributo categorico ma per ora cancelliamo semplicemente"
   ]
  },
  {
   "cell_type": "code",
   "execution_count": 79,
   "metadata": {},
   "outputs": [],
   "source": [
    "df.dropna(inplace=True, subset=['Trim'])"
   ]
  },
  {
   "cell_type": "markdown",
   "metadata": {},
   "source": [
    "Passiamo ora all'attributo __Nationality__."
   ]
  },
  {
   "cell_type": "code",
   "execution_count": 80,
   "metadata": {},
   "outputs": [
    {
     "data": {
      "text/plain": [
       "AMERICAN          48420\n",
       "OTHER ASIAN        6308\n",
       "TOP LINE ASIAN     2988\n",
       "OTHER               146\n",
       "Name: Nationality, dtype: int64"
      ]
     },
     "execution_count": 80,
     "metadata": {},
     "output_type": "execute_result"
    }
   ],
   "source": [
    "df['Nationality'].value_counts()"
   ]
  },
  {
   "cell_type": "markdown",
   "metadata": {},
   "source": [
    "I possibili valori per la nazionalità di una macchina possono essere i 4 di sopra. E' necessario verificare che __Other__ non sia un hidden missing value.\n",
    "\n",
    "Per fare ciò abbiamo controllato nella fase di Data Understanding che non siano presenti macchine dello stesso produttore con nazionalità diversa. Questo controllo ci può far notare anche eventuali errori nel dataset.\n",
    "\n",
    "Dal controllo è infatti emerso che è presente un errore nella nazionalità delle macchine del produttore __Toyota__"
   ]
  },
  {
   "cell_type": "code",
   "execution_count": 81,
   "metadata": {},
   "outputs": [
    {
     "data": {
      "text/plain": [
       "TOP LINE ASIAN    894\n",
       "OTHER ASIAN         4\n",
       "Name: Nationality, dtype: int64"
      ]
     },
     "execution_count": 81,
     "metadata": {},
     "output_type": "execute_result"
    }
   ],
   "source": [
    "df[df['Make']=='TOYOTA']['Nationality'].value_counts()"
   ]
  },
  {
   "cell_type": "markdown",
   "metadata": {},
   "source": [
    "Dato che la nazionalità di un veicolo è riferita al produttore, veicoli dello stesso produttore non possono avere nazionalità diversa. Considerando la distribuzione del valore __Nationality__ per __Make__=Toyota, correggiamo i 4 recordo con \"Other Asian\""
   ]
  },
  {
   "cell_type": "code",
   "execution_count": 82,
   "metadata": {},
   "outputs": [],
   "source": [
    "df.loc[df['Make']=='TOYOTA', 'Nationality'] = 'TOP LINE ASIAN'"
   ]
  },
  {
   "cell_type": "markdown",
   "metadata": {},
   "source": [
    "In realtà, per le macchine di nazionalità asiatica viene specificato se sono top line o no. Dato che questa è un informazione che non riguarda la nazionalità e può essere dedotta guardando al trim level correggiamo tutto in __ASIAN__"
   ]
  },
  {
   "cell_type": "code",
   "execution_count": 83,
   "metadata": {},
   "outputs": [],
   "source": [
    "df.loc[df['Nationality'].isin(['TOP LINE ASIAN', 'OTHER ASIAN']), 'Nationality'] = 'ASIAN'"
   ]
  },
  {
   "cell_type": "markdown",
   "metadata": {},
   "source": [
    "Con una veloce ricerca su google è possibile ottenere una migliore granularità per quanto riguarda la nazionalità dei veicoli per cui viene indicato solo __Other__"
   ]
  },
  {
   "cell_type": "code",
   "execution_count": 84,
   "metadata": {},
   "outputs": [],
   "source": [
    "df[df['Nationality']=='OTHER']['Make'].value_counts()\n",
    "\n",
    "df.loc[df['Make']=='VOLKSWAGEN', 'Nationality'] = 'GERMAN'\n",
    "df.loc[df['Make']=='VOLVO', 'Nationality'] = 'SWEDISH'\n",
    "df.loc[df['Make']=='MINI', 'Nationality'] = 'ENGLISH'"
   ]
  },
  {
   "cell_type": "markdown",
   "metadata": {},
   "source": [
    "Otteniamo in questo modo una migliore granularità sull'attributo __Nationality__."
   ]
  },
  {
   "cell_type": "code",
   "execution_count": 85,
   "metadata": {},
   "outputs": [
    {
     "data": {
      "image/png": "[encoded data removed]",
      "text/plain": [
       "<Figure size 432x288 with 1 Axes>"
      ]
     },
     "metadata": {
      "needs_background": "light"
     },
     "output_type": "display_data"
    }
   ],
   "source": [
    "df['Nationality'].value_counts().plot(kind='bar')\n",
    "plt.show()"
   ]
  },
  {
   "cell_type": "code",
   "execution_count": 86,
   "metadata": {},
   "outputs": [
    {
     "data": {
      "text/html": [
       "<div>\n",
       "<style scoped>\n",
       "    .dataframe tbody tr th:only-of-type {\n",
       "        vertical-align: middle;\n",
       "    }\n",
       "\n",
       "    .dataframe tbody tr th {\n",
       "        vertical-align: top;\n",
       "    }\n",
       "\n",
       "    .dataframe thead th {\n",
       "        text-align: right;\n",
       "    }\n",
       "</style>\n",
       "<table border=\"1\" class=\"dataframe\">\n",
       "  <thead>\n",
       "    <tr style=\"text-align: right;\">\n",
       "      <th></th>\n",
       "      <th>RefId</th>\n",
       "      <th>IsBadBuy</th>\n",
       "      <th>PurchDate</th>\n",
       "      <th>Auction</th>\n",
       "      <th>VehicleAge</th>\n",
       "      <th>Make</th>\n",
       "      <th>Model</th>\n",
       "      <th>Trim</th>\n",
       "      <th>SubModel</th>\n",
       "      <th>Color</th>\n",
       "      <th>...</th>\n",
       "      <th>MMRCurrentAuctionCleanPrice</th>\n",
       "      <th>MMRCurrentRetailAveragePrice</th>\n",
       "      <th>MMRCurrentRetailCleanPrice</th>\n",
       "      <th>VNST</th>\n",
       "      <th>VehBCost</th>\n",
       "      <th>IsOnlineSale</th>\n",
       "      <th>WarrantyCost</th>\n",
       "      <th>ModelSimple</th>\n",
       "      <th>Doors</th>\n",
       "      <th>USRegion</th>\n",
       "    </tr>\n",
       "  </thead>\n",
       "  <tbody>\n",
       "    <tr>\n",
       "      <td>15769</td>\n",
       "      <td>10897</td>\n",
       "      <td>0</td>\n",
       "      <td>10/19/2009</td>\n",
       "      <td>MANHEIM</td>\n",
       "      <td>7</td>\n",
       "      <td>GMC</td>\n",
       "      <td>SIERRA 1500</td>\n",
       "      <td>SL</td>\n",
       "      <td>BASE</td>\n",
       "      <td>WHITE</td>\n",
       "      <td>...</td>\n",
       "      <td>NaN</td>\n",
       "      <td>NaN</td>\n",
       "      <td>NaN</td>\n",
       "      <td>NC</td>\n",
       "      <td>7500.0</td>\n",
       "      <td>0</td>\n",
       "      <td>1455</td>\n",
       "      <td>SIERRA 1500</td>\n",
       "      <td>NaN</td>\n",
       "      <td>South</td>\n",
       "    </tr>\n",
       "    <tr>\n",
       "      <td>18532</td>\n",
       "      <td>25187</td>\n",
       "      <td>0</td>\n",
       "      <td>12/10/2009</td>\n",
       "      <td>OTHER</td>\n",
       "      <td>1</td>\n",
       "      <td>DODGE</td>\n",
       "      <td>NITRO 4WD V6</td>\n",
       "      <td>SXT</td>\n",
       "      <td>SUV 3.7L SE</td>\n",
       "      <td>WHITE</td>\n",
       "      <td>...</td>\n",
       "      <td>NaN</td>\n",
       "      <td>NaN</td>\n",
       "      <td>NaN</td>\n",
       "      <td>MS</td>\n",
       "      <td>9745.0</td>\n",
       "      <td>0</td>\n",
       "      <td>983</td>\n",
       "      <td>NITRO</td>\n",
       "      <td>4D</td>\n",
       "      <td>South</td>\n",
       "    </tr>\n",
       "    <tr>\n",
       "      <td>20016</td>\n",
       "      <td>69980</td>\n",
       "      <td>0</td>\n",
       "      <td>2/17/2010</td>\n",
       "      <td>ADESA</td>\n",
       "      <td>2</td>\n",
       "      <td>JEEP</td>\n",
       "      <td>PATRIOT 2WD 4C</td>\n",
       "      <td>SPO</td>\n",
       "      <td>SUV SPORT</td>\n",
       "      <td>SILVER</td>\n",
       "      <td>...</td>\n",
       "      <td>NaN</td>\n",
       "      <td>NaN</td>\n",
       "      <td>NaN</td>\n",
       "      <td>AZ</td>\n",
       "      <td>9655.0</td>\n",
       "      <td>0</td>\n",
       "      <td>825</td>\n",
       "      <td>PATRIOT</td>\n",
       "      <td>4D</td>\n",
       "      <td>West</td>\n",
       "    </tr>\n",
       "    <tr>\n",
       "      <td>35157</td>\n",
       "      <td>69990</td>\n",
       "      <td>0</td>\n",
       "      <td>2/24/2010</td>\n",
       "      <td>ADESA</td>\n",
       "      <td>2</td>\n",
       "      <td>JEEP</td>\n",
       "      <td>PATRIOT 2WD 4C</td>\n",
       "      <td>SPO</td>\n",
       "      <td>SUV SPORT</td>\n",
       "      <td>BLACK</td>\n",
       "      <td>...</td>\n",
       "      <td>11695.0</td>\n",
       "      <td>14026.0</td>\n",
       "      <td>15410.0</td>\n",
       "      <td>AZ</td>\n",
       "      <td>9955.0</td>\n",
       "      <td>0</td>\n",
       "      <td>825</td>\n",
       "      <td>PATRIOT</td>\n",
       "      <td>4D</td>\n",
       "      <td>West</td>\n",
       "    </tr>\n",
       "  </tbody>\n",
       "</table>\n",
       "<p>4 rows × 31 columns</p>\n",
       "</div>"
      ],
      "text/plain": [
       "       RefId  IsBadBuy   PurchDate  Auction  VehicleAge   Make  \\\n",
       "15769  10897         0  10/19/2009  MANHEIM           7    GMC   \n",
       "18532  25187         0  12/10/2009    OTHER           1  DODGE   \n",
       "20016  69980         0   2/17/2010    ADESA           2   JEEP   \n",
       "35157  69990         0   2/24/2010    ADESA           2   JEEP   \n",
       "\n",
       "                Model Trim     SubModel   Color  ...  \\\n",
       "15769     SIERRA 1500   SL         BASE   WHITE  ...   \n",
       "18532    NITRO 4WD V6  SXT  SUV 3.7L SE   WHITE  ...   \n",
       "20016  PATRIOT 2WD 4C  SPO    SUV SPORT  SILVER  ...   \n",
       "35157  PATRIOT 2WD 4C  SPO    SUV SPORT   BLACK  ...   \n",
       "\n",
       "      MMRCurrentAuctionCleanPrice MMRCurrentRetailAveragePrice  \\\n",
       "15769                         NaN                          NaN   \n",
       "18532                         NaN                          NaN   \n",
       "20016                         NaN                          NaN   \n",
       "35157                     11695.0                      14026.0   \n",
       "\n",
       "       MMRCurrentRetailCleanPrice VNST VehBCost IsOnlineSale  WarrantyCost  \\\n",
       "15769                         NaN   NC   7500.0            0          1455   \n",
       "18532                         NaN   MS   9745.0            0           983   \n",
       "20016                         NaN   AZ   9655.0            0           825   \n",
       "35157                     15410.0   AZ   9955.0            0           825   \n",
       "\n",
       "       ModelSimple  Doors  USRegion  \n",
       "15769  SIERRA 1500    NaN     South  \n",
       "18532        NITRO     4D     South  \n",
       "20016      PATRIOT     4D      West  \n",
       "35157      PATRIOT     4D      West  \n",
       "\n",
       "[4 rows x 31 columns]"
      ]
     },
     "execution_count": 86,
     "metadata": {},
     "output_type": "execute_result"
    }
   ],
   "source": [
    "df[df['Nationality'].isnull()]"
   ]
  },
  {
   "cell_type": "markdown",
   "metadata": {},
   "source": [
    "Dato che l'attributo __Nationality__ è riferito all' attributo __Make__ ci troviamo davanti ad un missing value di tipo MAR. L'attributo __Nationality__ può essere corretto guardando il suo valore per i veicoli con lo stesso __Make__ dei missing."
   ]
  },
  {
   "cell_type": "code",
   "execution_count": 87,
   "metadata": {},
   "outputs": [
    {
     "data": {
      "text/plain": [
       "Make   Nationality\n",
       "DODGE  AMERICAN       10354\n",
       "GMC    AMERICAN         501\n",
       "JEEP   AMERICAN        1285\n",
       "Name: Nationality, dtype: int64"
      ]
     },
     "execution_count": 87,
     "metadata": {},
     "output_type": "execute_result"
    }
   ],
   "source": [
    "df[(df['Make']=='DODGE') | (df['Make']=='JEEP') | (df['Make']=='GMC')].groupby('Make')['Nationality'].value_counts()"
   ]
  },
  {
   "cell_type": "markdown",
   "metadata": {},
   "source": [
    "Considerando che il dato sulla nazionalità di altre macchine dello stesso produttore è uniforme (tutte le Dodge sono americane, così come tutte le Ford e tutte le GMC) possiamo correggere questi 4 missing values."
   ]
  },
  {
   "cell_type": "code",
   "execution_count": 88,
   "metadata": {},
   "outputs": [],
   "source": [
    "df.loc[df['Nationality'].isnull(), 'Nationality']='AMERICAN'"
   ]
  },
  {
   "cell_type": "markdown",
   "metadata": {},
   "source": [
    "Il prossimo attributo che consideriamo è __TopThreeAmericanName__. I record con il missing value sono gli stessi 4 che avevano __Nationality__ come mancante. Per questa correzione vale il discorso fatto per l'attributo precedente."
   ]
  },
  {
   "cell_type": "code",
   "execution_count": 89,
   "metadata": {},
   "outputs": [
    {
     "data": {
      "text/html": [
       "<div>\n",
       "<style scoped>\n",
       "    .dataframe tbody tr th:only-of-type {\n",
       "        vertical-align: middle;\n",
       "    }\n",
       "\n",
       "    .dataframe tbody tr th {\n",
       "        vertical-align: top;\n",
       "    }\n",
       "\n",
       "    .dataframe thead th {\n",
       "        text-align: right;\n",
       "    }\n",
       "</style>\n",
       "<table border=\"1\" class=\"dataframe\">\n",
       "  <thead>\n",
       "    <tr style=\"text-align: right;\">\n",
       "      <th></th>\n",
       "      <th>RefId</th>\n",
       "      <th>IsBadBuy</th>\n",
       "      <th>PurchDate</th>\n",
       "      <th>Auction</th>\n",
       "      <th>VehicleAge</th>\n",
       "      <th>Make</th>\n",
       "      <th>Model</th>\n",
       "      <th>Trim</th>\n",
       "      <th>SubModel</th>\n",
       "      <th>Color</th>\n",
       "      <th>...</th>\n",
       "      <th>MMRCurrentAuctionCleanPrice</th>\n",
       "      <th>MMRCurrentRetailAveragePrice</th>\n",
       "      <th>MMRCurrentRetailCleanPrice</th>\n",
       "      <th>VNST</th>\n",
       "      <th>VehBCost</th>\n",
       "      <th>IsOnlineSale</th>\n",
       "      <th>WarrantyCost</th>\n",
       "      <th>ModelSimple</th>\n",
       "      <th>Doors</th>\n",
       "      <th>USRegion</th>\n",
       "    </tr>\n",
       "  </thead>\n",
       "  <tbody>\n",
       "    <tr>\n",
       "      <td>15769</td>\n",
       "      <td>10897</td>\n",
       "      <td>0</td>\n",
       "      <td>10/19/2009</td>\n",
       "      <td>MANHEIM</td>\n",
       "      <td>7</td>\n",
       "      <td>GMC</td>\n",
       "      <td>SIERRA 1500</td>\n",
       "      <td>SL</td>\n",
       "      <td>BASE</td>\n",
       "      <td>WHITE</td>\n",
       "      <td>...</td>\n",
       "      <td>NaN</td>\n",
       "      <td>NaN</td>\n",
       "      <td>NaN</td>\n",
       "      <td>NC</td>\n",
       "      <td>7500.0</td>\n",
       "      <td>0</td>\n",
       "      <td>1455</td>\n",
       "      <td>SIERRA 1500</td>\n",
       "      <td>NaN</td>\n",
       "      <td>South</td>\n",
       "    </tr>\n",
       "    <tr>\n",
       "      <td>18532</td>\n",
       "      <td>25187</td>\n",
       "      <td>0</td>\n",
       "      <td>12/10/2009</td>\n",
       "      <td>OTHER</td>\n",
       "      <td>1</td>\n",
       "      <td>DODGE</td>\n",
       "      <td>NITRO 4WD V6</td>\n",
       "      <td>SXT</td>\n",
       "      <td>SUV 3.7L SE</td>\n",
       "      <td>WHITE</td>\n",
       "      <td>...</td>\n",
       "      <td>NaN</td>\n",
       "      <td>NaN</td>\n",
       "      <td>NaN</td>\n",
       "      <td>MS</td>\n",
       "      <td>9745.0</td>\n",
       "      <td>0</td>\n",
       "      <td>983</td>\n",
       "      <td>NITRO</td>\n",
       "      <td>4D</td>\n",
       "      <td>South</td>\n",
       "    </tr>\n",
       "    <tr>\n",
       "      <td>20016</td>\n",
       "      <td>69980</td>\n",
       "      <td>0</td>\n",
       "      <td>2/17/2010</td>\n",
       "      <td>ADESA</td>\n",
       "      <td>2</td>\n",
       "      <td>JEEP</td>\n",
       "      <td>PATRIOT 2WD 4C</td>\n",
       "      <td>SPO</td>\n",
       "      <td>SUV SPORT</td>\n",
       "      <td>SILVER</td>\n",
       "      <td>...</td>\n",
       "      <td>NaN</td>\n",
       "      <td>NaN</td>\n",
       "      <td>NaN</td>\n",
       "      <td>AZ</td>\n",
       "      <td>9655.0</td>\n",
       "      <td>0</td>\n",
       "      <td>825</td>\n",
       "      <td>PATRIOT</td>\n",
       "      <td>4D</td>\n",
       "      <td>West</td>\n",
       "    </tr>\n",
       "    <tr>\n",
       "      <td>35157</td>\n",
       "      <td>69990</td>\n",
       "      <td>0</td>\n",
       "      <td>2/24/2010</td>\n",
       "      <td>ADESA</td>\n",
       "      <td>2</td>\n",
       "      <td>JEEP</td>\n",
       "      <td>PATRIOT 2WD 4C</td>\n",
       "      <td>SPO</td>\n",
       "      <td>SUV SPORT</td>\n",
       "      <td>BLACK</td>\n",
       "      <td>...</td>\n",
       "      <td>11695.0</td>\n",
       "      <td>14026.0</td>\n",
       "      <td>15410.0</td>\n",
       "      <td>AZ</td>\n",
       "      <td>9955.0</td>\n",
       "      <td>0</td>\n",
       "      <td>825</td>\n",
       "      <td>PATRIOT</td>\n",
       "      <td>4D</td>\n",
       "      <td>West</td>\n",
       "    </tr>\n",
       "  </tbody>\n",
       "</table>\n",
       "<p>4 rows × 31 columns</p>\n",
       "</div>"
      ],
      "text/plain": [
       "       RefId  IsBadBuy   PurchDate  Auction  VehicleAge   Make  \\\n",
       "15769  10897         0  10/19/2009  MANHEIM           7    GMC   \n",
       "18532  25187         0  12/10/2009    OTHER           1  DODGE   \n",
       "20016  69980         0   2/17/2010    ADESA           2   JEEP   \n",
       "35157  69990         0   2/24/2010    ADESA           2   JEEP   \n",
       "\n",
       "                Model Trim     SubModel   Color  ...  \\\n",
       "15769     SIERRA 1500   SL         BASE   WHITE  ...   \n",
       "18532    NITRO 4WD V6  SXT  SUV 3.7L SE   WHITE  ...   \n",
       "20016  PATRIOT 2WD 4C  SPO    SUV SPORT  SILVER  ...   \n",
       "35157  PATRIOT 2WD 4C  SPO    SUV SPORT   BLACK  ...   \n",
       "\n",
       "      MMRCurrentAuctionCleanPrice MMRCurrentRetailAveragePrice  \\\n",
       "15769                         NaN                          NaN   \n",
       "18532                         NaN                          NaN   \n",
       "20016                         NaN                          NaN   \n",
       "35157                     11695.0                      14026.0   \n",
       "\n",
       "       MMRCurrentRetailCleanPrice VNST VehBCost IsOnlineSale  WarrantyCost  \\\n",
       "15769                         NaN   NC   7500.0            0          1455   \n",
       "18532                         NaN   MS   9745.0            0           983   \n",
       "20016                         NaN   AZ   9655.0            0           825   \n",
       "35157                     15410.0   AZ   9955.0            0           825   \n",
       "\n",
       "       ModelSimple  Doors  USRegion  \n",
       "15769  SIERRA 1500    NaN     South  \n",
       "18532        NITRO     4D     South  \n",
       "20016      PATRIOT     4D      West  \n",
       "35157      PATRIOT     4D      West  \n",
       "\n",
       "[4 rows x 31 columns]"
      ]
     },
     "execution_count": 89,
     "metadata": {},
     "output_type": "execute_result"
    }
   ],
   "source": [
    "df[df['TopThreeAmericanName'].isnull()]"
   ]
  },
  {
   "cell_type": "code",
   "execution_count": 90,
   "metadata": {},
   "outputs": [
    {
     "data": {
      "text/plain": [
       "Make   TopThreeAmericanName\n",
       "DODGE  CHRYSLER                10354\n",
       "GMC    GM                        501\n",
       "JEEP   CHRYSLER                 1285\n",
       "Name: TopThreeAmericanName, dtype: int64"
      ]
     },
     "execution_count": 90,
     "metadata": {},
     "output_type": "execute_result"
    }
   ],
   "source": [
    "df[(df['Make']=='DODGE') | (df['Make']=='JEEP') | (df['Make']=='GMC')].groupby('Make')['TopThreeAmericanName'].value_counts()"
   ]
  },
  {
   "cell_type": "code",
   "execution_count": 91,
   "metadata": {},
   "outputs": [],
   "source": [
    "df.loc[(df['TopThreeAmericanName'].isnull()) & (df['Make']=='DODGE'), 'TopThreeAmericanName']='CHRYSLER'\n",
    "df.loc[(df['TopThreeAmericanName'].isnull()) & (df['Make']=='GMC'), 'TopThreeAmericanName']='GM'\n",
    "df.loc[(df['TopThreeAmericanName'].isnull()) & (df['Make']=='JEEP'), 'TopThreeAmericanName']='CHRYSLER'"
   ]
  },
  {
   "cell_type": "markdown",
   "metadata": {},
   "source": [
    "Ancora una volta, i 4 record con missing values per l'attributo __Size__ sono gli stessi dei due attributi sopra"
   ]
  },
  {
   "cell_type": "code",
   "execution_count": 92,
   "metadata": {},
   "outputs": [
    {
     "data": {
      "text/html": [
       "<div>\n",
       "<style scoped>\n",
       "    .dataframe tbody tr th:only-of-type {\n",
       "        vertical-align: middle;\n",
       "    }\n",
       "\n",
       "    .dataframe tbody tr th {\n",
       "        vertical-align: top;\n",
       "    }\n",
       "\n",
       "    .dataframe thead th {\n",
       "        text-align: right;\n",
       "    }\n",
       "</style>\n",
       "<table border=\"1\" class=\"dataframe\">\n",
       "  <thead>\n",
       "    <tr style=\"text-align: right;\">\n",
       "      <th></th>\n",
       "      <th>RefId</th>\n",
       "      <th>IsBadBuy</th>\n",
       "      <th>PurchDate</th>\n",
       "      <th>Auction</th>\n",
       "      <th>VehicleAge</th>\n",
       "      <th>Make</th>\n",
       "      <th>Model</th>\n",
       "      <th>Trim</th>\n",
       "      <th>SubModel</th>\n",
       "      <th>Color</th>\n",
       "      <th>...</th>\n",
       "      <th>MMRCurrentAuctionCleanPrice</th>\n",
       "      <th>MMRCurrentRetailAveragePrice</th>\n",
       "      <th>MMRCurrentRetailCleanPrice</th>\n",
       "      <th>VNST</th>\n",
       "      <th>VehBCost</th>\n",
       "      <th>IsOnlineSale</th>\n",
       "      <th>WarrantyCost</th>\n",
       "      <th>ModelSimple</th>\n",
       "      <th>Doors</th>\n",
       "      <th>USRegion</th>\n",
       "    </tr>\n",
       "  </thead>\n",
       "  <tbody>\n",
       "    <tr>\n",
       "      <td>15769</td>\n",
       "      <td>10897</td>\n",
       "      <td>0</td>\n",
       "      <td>10/19/2009</td>\n",
       "      <td>MANHEIM</td>\n",
       "      <td>7</td>\n",
       "      <td>GMC</td>\n",
       "      <td>SIERRA 1500</td>\n",
       "      <td>SL</td>\n",
       "      <td>BASE</td>\n",
       "      <td>WHITE</td>\n",
       "      <td>...</td>\n",
       "      <td>NaN</td>\n",
       "      <td>NaN</td>\n",
       "      <td>NaN</td>\n",
       "      <td>NC</td>\n",
       "      <td>7500.0</td>\n",
       "      <td>0</td>\n",
       "      <td>1455</td>\n",
       "      <td>SIERRA 1500</td>\n",
       "      <td>NaN</td>\n",
       "      <td>South</td>\n",
       "    </tr>\n",
       "    <tr>\n",
       "      <td>18532</td>\n",
       "      <td>25187</td>\n",
       "      <td>0</td>\n",
       "      <td>12/10/2009</td>\n",
       "      <td>OTHER</td>\n",
       "      <td>1</td>\n",
       "      <td>DODGE</td>\n",
       "      <td>NITRO 4WD V6</td>\n",
       "      <td>SXT</td>\n",
       "      <td>SUV 3.7L SE</td>\n",
       "      <td>WHITE</td>\n",
       "      <td>...</td>\n",
       "      <td>NaN</td>\n",
       "      <td>NaN</td>\n",
       "      <td>NaN</td>\n",
       "      <td>MS</td>\n",
       "      <td>9745.0</td>\n",
       "      <td>0</td>\n",
       "      <td>983</td>\n",
       "      <td>NITRO</td>\n",
       "      <td>4D</td>\n",
       "      <td>South</td>\n",
       "    </tr>\n",
       "    <tr>\n",
       "      <td>20016</td>\n",
       "      <td>69980</td>\n",
       "      <td>0</td>\n",
       "      <td>2/17/2010</td>\n",
       "      <td>ADESA</td>\n",
       "      <td>2</td>\n",
       "      <td>JEEP</td>\n",
       "      <td>PATRIOT 2WD 4C</td>\n",
       "      <td>SPO</td>\n",
       "      <td>SUV SPORT</td>\n",
       "      <td>SILVER</td>\n",
       "      <td>...</td>\n",
       "      <td>NaN</td>\n",
       "      <td>NaN</td>\n",
       "      <td>NaN</td>\n",
       "      <td>AZ</td>\n",
       "      <td>9655.0</td>\n",
       "      <td>0</td>\n",
       "      <td>825</td>\n",
       "      <td>PATRIOT</td>\n",
       "      <td>4D</td>\n",
       "      <td>West</td>\n",
       "    </tr>\n",
       "    <tr>\n",
       "      <td>35157</td>\n",
       "      <td>69990</td>\n",
       "      <td>0</td>\n",
       "      <td>2/24/2010</td>\n",
       "      <td>ADESA</td>\n",
       "      <td>2</td>\n",
       "      <td>JEEP</td>\n",
       "      <td>PATRIOT 2WD 4C</td>\n",
       "      <td>SPO</td>\n",
       "      <td>SUV SPORT</td>\n",
       "      <td>BLACK</td>\n",
       "      <td>...</td>\n",
       "      <td>11695.0</td>\n",
       "      <td>14026.0</td>\n",
       "      <td>15410.0</td>\n",
       "      <td>AZ</td>\n",
       "      <td>9955.0</td>\n",
       "      <td>0</td>\n",
       "      <td>825</td>\n",
       "      <td>PATRIOT</td>\n",
       "      <td>4D</td>\n",
       "      <td>West</td>\n",
       "    </tr>\n",
       "  </tbody>\n",
       "</table>\n",
       "<p>4 rows × 31 columns</p>\n",
       "</div>"
      ],
      "text/plain": [
       "       RefId  IsBadBuy   PurchDate  Auction  VehicleAge   Make  \\\n",
       "15769  10897         0  10/19/2009  MANHEIM           7    GMC   \n",
       "18532  25187         0  12/10/2009    OTHER           1  DODGE   \n",
       "20016  69980         0   2/17/2010    ADESA           2   JEEP   \n",
       "35157  69990         0   2/24/2010    ADESA           2   JEEP   \n",
       "\n",
       "                Model Trim     SubModel   Color  ...  \\\n",
       "15769     SIERRA 1500   SL         BASE   WHITE  ...   \n",
       "18532    NITRO 4WD V6  SXT  SUV 3.7L SE   WHITE  ...   \n",
       "20016  PATRIOT 2WD 4C  SPO    SUV SPORT  SILVER  ...   \n",
       "35157  PATRIOT 2WD 4C  SPO    SUV SPORT   BLACK  ...   \n",
       "\n",
       "      MMRCurrentAuctionCleanPrice MMRCurrentRetailAveragePrice  \\\n",
       "15769                         NaN                          NaN   \n",
       "18532                         NaN                          NaN   \n",
       "20016                         NaN                          NaN   \n",
       "35157                     11695.0                      14026.0   \n",
       "\n",
       "       MMRCurrentRetailCleanPrice VNST VehBCost IsOnlineSale  WarrantyCost  \\\n",
       "15769                         NaN   NC   7500.0            0          1455   \n",
       "18532                         NaN   MS   9745.0            0           983   \n",
       "20016                         NaN   AZ   9655.0            0           825   \n",
       "35157                     15410.0   AZ   9955.0            0           825   \n",
       "\n",
       "       ModelSimple  Doors  USRegion  \n",
       "15769  SIERRA 1500    NaN     South  \n",
       "18532        NITRO     4D     South  \n",
       "20016      PATRIOT     4D      West  \n",
       "35157      PATRIOT     4D      West  \n",
       "\n",
       "[4 rows x 31 columns]"
      ]
     },
     "execution_count": 92,
     "metadata": {},
     "output_type": "execute_result"
    }
   ],
   "source": [
    "df[df['Size'].isnull()]"
   ]
  },
  {
   "cell_type": "markdown",
   "metadata": {},
   "source": [
    "Assegnamo un valore a __Size__ in base alla moda di altri veicoli con lo stesso __Model__."
   ]
  },
  {
   "cell_type": "code",
   "execution_count": 93,
   "metadata": {},
   "outputs": [],
   "source": [
    "fillna_group_distribution(['ModelSimple'],'Size')"
   ]
  },
  {
   "cell_type": "code",
   "execution_count": 94,
   "metadata": {},
   "outputs": [
    {
     "data": {
      "text/html": [
       "<div>\n",
       "<style scoped>\n",
       "    .dataframe tbody tr th:only-of-type {\n",
       "        vertical-align: middle;\n",
       "    }\n",
       "\n",
       "    .dataframe tbody tr th {\n",
       "        vertical-align: top;\n",
       "    }\n",
       "\n",
       "    .dataframe thead th {\n",
       "        text-align: right;\n",
       "    }\n",
       "</style>\n",
       "<table border=\"1\" class=\"dataframe\">\n",
       "  <thead>\n",
       "    <tr style=\"text-align: right;\">\n",
       "      <th></th>\n",
       "      <th>RefId</th>\n",
       "      <th>IsBadBuy</th>\n",
       "      <th>PurchDate</th>\n",
       "      <th>Auction</th>\n",
       "      <th>VehicleAge</th>\n",
       "      <th>Make</th>\n",
       "      <th>Model</th>\n",
       "      <th>Trim</th>\n",
       "      <th>SubModel</th>\n",
       "      <th>Color</th>\n",
       "      <th>...</th>\n",
       "      <th>MMRCurrentAuctionCleanPrice</th>\n",
       "      <th>MMRCurrentRetailAveragePrice</th>\n",
       "      <th>MMRCurrentRetailCleanPrice</th>\n",
       "      <th>VNST</th>\n",
       "      <th>VehBCost</th>\n",
       "      <th>IsOnlineSale</th>\n",
       "      <th>WarrantyCost</th>\n",
       "      <th>ModelSimple</th>\n",
       "      <th>Doors</th>\n",
       "      <th>USRegion</th>\n",
       "    </tr>\n",
       "  </thead>\n",
       "  <tbody>\n",
       "    <tr>\n",
       "      <td>15769</td>\n",
       "      <td>10897</td>\n",
       "      <td>0</td>\n",
       "      <td>10/19/2009</td>\n",
       "      <td>MANHEIM</td>\n",
       "      <td>7</td>\n",
       "      <td>GMC</td>\n",
       "      <td>SIERRA 1500</td>\n",
       "      <td>SL</td>\n",
       "      <td>BASE</td>\n",
       "      <td>WHITE</td>\n",
       "      <td>...</td>\n",
       "      <td>NaN</td>\n",
       "      <td>NaN</td>\n",
       "      <td>NaN</td>\n",
       "      <td>NC</td>\n",
       "      <td>7500.0</td>\n",
       "      <td>0</td>\n",
       "      <td>1455</td>\n",
       "      <td>SIERRA 1500</td>\n",
       "      <td>NaN</td>\n",
       "      <td>South</td>\n",
       "    </tr>\n",
       "  </tbody>\n",
       "</table>\n",
       "<p>1 rows × 31 columns</p>\n",
       "</div>"
      ],
      "text/plain": [
       "       RefId  IsBadBuy   PurchDate  Auction  VehicleAge Make        Model  \\\n",
       "15769  10897         0  10/19/2009  MANHEIM           7  GMC  SIERRA 1500   \n",
       "\n",
       "      Trim SubModel  Color  ... MMRCurrentAuctionCleanPrice  \\\n",
       "15769   SL     BASE  WHITE  ...                         NaN   \n",
       "\n",
       "      MMRCurrentRetailAveragePrice  MMRCurrentRetailCleanPrice VNST VehBCost  \\\n",
       "15769                          NaN                         NaN   NC   7500.0   \n",
       "\n",
       "      IsOnlineSale  WarrantyCost  ModelSimple  Doors  USRegion  \n",
       "15769            0          1455  SIERRA 1500    NaN     South  \n",
       "\n",
       "[1 rows x 31 columns]"
      ]
     },
     "execution_count": 94,
     "metadata": {},
     "output_type": "execute_result"
    }
   ],
   "source": [
    "df[df['Size'].isnull()]"
   ]
  },
  {
   "cell_type": "markdown",
   "metadata": {},
   "source": [
    "Non esiste nessuna altra __SIERRA 1500__ nel dataset. Prendiamo in considerazione l'ipotesi di eliminare questo record, che tra l'altro presenta altri valori mancanti su diversi attributi."
   ]
  },
  {
   "cell_type": "code",
   "execution_count": 95,
   "metadata": {},
   "outputs": [
    {
     "data": {
      "text/plain": [
       "0"
      ]
     },
     "execution_count": 95,
     "metadata": {},
     "output_type": "execute_result"
    }
   ],
   "source": [
    "df=df.drop([15769])\n",
    "df['Size'].isnull().sum()"
   ]
  },
  {
   "cell_type": "markdown",
   "metadata": {},
   "source": [
    "Passiamo ora all'attributo __Transmission__."
   ]
  },
  {
   "cell_type": "code",
   "execution_count": 96,
   "metadata": {},
   "outputs": [
    {
     "data": {
      "text/html": [
       "<div>\n",
       "<style scoped>\n",
       "    .dataframe tbody tr th:only-of-type {\n",
       "        vertical-align: middle;\n",
       "    }\n",
       "\n",
       "    .dataframe tbody tr th {\n",
       "        vertical-align: top;\n",
       "    }\n",
       "\n",
       "    .dataframe thead th {\n",
       "        text-align: right;\n",
       "    }\n",
       "</style>\n",
       "<table border=\"1\" class=\"dataframe\">\n",
       "  <thead>\n",
       "    <tr style=\"text-align: right;\">\n",
       "      <th></th>\n",
       "      <th>RefId</th>\n",
       "      <th>IsBadBuy</th>\n",
       "      <th>PurchDate</th>\n",
       "      <th>Auction</th>\n",
       "      <th>VehicleAge</th>\n",
       "      <th>Make</th>\n",
       "      <th>Model</th>\n",
       "      <th>Trim</th>\n",
       "      <th>SubModel</th>\n",
       "      <th>Color</th>\n",
       "      <th>...</th>\n",
       "      <th>MMRCurrentAuctionCleanPrice</th>\n",
       "      <th>MMRCurrentRetailAveragePrice</th>\n",
       "      <th>MMRCurrentRetailCleanPrice</th>\n",
       "      <th>VNST</th>\n",
       "      <th>VehBCost</th>\n",
       "      <th>IsOnlineSale</th>\n",
       "      <th>WarrantyCost</th>\n",
       "      <th>ModelSimple</th>\n",
       "      <th>Doors</th>\n",
       "      <th>USRegion</th>\n",
       "    </tr>\n",
       "  </thead>\n",
       "  <tbody>\n",
       "    <tr>\n",
       "      <td>23019</td>\n",
       "      <td>70466</td>\n",
       "      <td>0</td>\n",
       "      <td>1/15/2009</td>\n",
       "      <td>ADESA</td>\n",
       "      <td>5</td>\n",
       "      <td>CHEVROLET</td>\n",
       "      <td>IMPALA 3.4L V6 SFI</td>\n",
       "      <td>BAS</td>\n",
       "      <td>SEDAN LS 3.5L</td>\n",
       "      <td>NaN</td>\n",
       "      <td>...</td>\n",
       "      <td>5219.0</td>\n",
       "      <td>4845.0</td>\n",
       "      <td>6137.0</td>\n",
       "      <td>TX</td>\n",
       "      <td>4470.0</td>\n",
       "      <td>0</td>\n",
       "      <td>2152</td>\n",
       "      <td>IMPALA</td>\n",
       "      <td>NaN</td>\n",
       "      <td>South</td>\n",
       "    </tr>\n",
       "    <tr>\n",
       "      <td>28280</td>\n",
       "      <td>70482</td>\n",
       "      <td>0</td>\n",
       "      <td>1/15/2009</td>\n",
       "      <td>ADESA</td>\n",
       "      <td>3</td>\n",
       "      <td>FORD</td>\n",
       "      <td>FREESTAR FWD V6 3.9L</td>\n",
       "      <td>SE</td>\n",
       "      <td>PASSENGER 3.9L</td>\n",
       "      <td>NaN</td>\n",
       "      <td>...</td>\n",
       "      <td>7186.0</td>\n",
       "      <td>6710.0</td>\n",
       "      <td>8261.0</td>\n",
       "      <td>TX</td>\n",
       "      <td>4970.0</td>\n",
       "      <td>0</td>\n",
       "      <td>1633</td>\n",
       "      <td>FREESTAR</td>\n",
       "      <td>NaN</td>\n",
       "      <td>South</td>\n",
       "    </tr>\n",
       "    <tr>\n",
       "      <td>28961</td>\n",
       "      <td>70469</td>\n",
       "      <td>0</td>\n",
       "      <td>1/15/2009</td>\n",
       "      <td>ADESA</td>\n",
       "      <td>5</td>\n",
       "      <td>PONTIAC</td>\n",
       "      <td>GRAND AM V6 3.4L V6</td>\n",
       "      <td>SE</td>\n",
       "      <td>SEDAN GT1</td>\n",
       "      <td>NaN</td>\n",
       "      <td>...</td>\n",
       "      <td>5001.0</td>\n",
       "      <td>4615.0</td>\n",
       "      <td>5901.0</td>\n",
       "      <td>TX</td>\n",
       "      <td>4170.0</td>\n",
       "      <td>0</td>\n",
       "      <td>2412</td>\n",
       "      <td>GRAND AM</td>\n",
       "      <td>NaN</td>\n",
       "      <td>South</td>\n",
       "    </tr>\n",
       "    <tr>\n",
       "      <td>35224</td>\n",
       "      <td>24596</td>\n",
       "      <td>0</td>\n",
       "      <td>6/24/2009</td>\n",
       "      <td>MANHEIM</td>\n",
       "      <td>3</td>\n",
       "      <td>DODGE</td>\n",
       "      <td>STRATUS V6 2.7L V6 M</td>\n",
       "      <td>SXT</td>\n",
       "      <td>COUPE R/T</td>\n",
       "      <td>NaN</td>\n",
       "      <td>...</td>\n",
       "      <td>6535.0</td>\n",
       "      <td>6565.0</td>\n",
       "      <td>7558.0</td>\n",
       "      <td>FL</td>\n",
       "      <td>6200.0</td>\n",
       "      <td>0</td>\n",
       "      <td>1215</td>\n",
       "      <td>STRATUS</td>\n",
       "      <td>NaN</td>\n",
       "      <td>South</td>\n",
       "    </tr>\n",
       "    <tr>\n",
       "      <td>40504</td>\n",
       "      <td>15917</td>\n",
       "      <td>0</td>\n",
       "      <td>10/13/2009</td>\n",
       "      <td>MANHEIM</td>\n",
       "      <td>4</td>\n",
       "      <td>MERCURY</td>\n",
       "      <td>MONTEGO 3.0L V6 EFI</td>\n",
       "      <td>BAS</td>\n",
       "      <td>SEDAN LUXURY</td>\n",
       "      <td>RED</td>\n",
       "      <td>...</td>\n",
       "      <td>7948.0</td>\n",
       "      <td>10946.0</td>\n",
       "      <td>11577.0</td>\n",
       "      <td>TX</td>\n",
       "      <td>7695.0</td>\n",
       "      <td>0</td>\n",
       "      <td>1506</td>\n",
       "      <td>MONTEGO</td>\n",
       "      <td>4D</td>\n",
       "      <td>South</td>\n",
       "    </tr>\n",
       "    <tr>\n",
       "      <td>48641</td>\n",
       "      <td>24585</td>\n",
       "      <td>0</td>\n",
       "      <td>6/24/2009</td>\n",
       "      <td>MANHEIM</td>\n",
       "      <td>3</td>\n",
       "      <td>DODGE</td>\n",
       "      <td>STRATUS V6 2.7L V6 M</td>\n",
       "      <td>SXT</td>\n",
       "      <td>SEDAN SXT FFV</td>\n",
       "      <td>NaN</td>\n",
       "      <td>...</td>\n",
       "      <td>6461.0</td>\n",
       "      <td>6418.0</td>\n",
       "      <td>7478.0</td>\n",
       "      <td>FL</td>\n",
       "      <td>6200.0</td>\n",
       "      <td>0</td>\n",
       "      <td>975</td>\n",
       "      <td>STRATUS</td>\n",
       "      <td>NaN</td>\n",
       "      <td>South</td>\n",
       "    </tr>\n",
       "    <tr>\n",
       "      <td>50661</td>\n",
       "      <td>70464</td>\n",
       "      <td>0</td>\n",
       "      <td>1/15/2009</td>\n",
       "      <td>ADESA</td>\n",
       "      <td>8</td>\n",
       "      <td>CHEVROLET</td>\n",
       "      <td>S10 PICKUP 2WD 4C 2.</td>\n",
       "      <td>BAS</td>\n",
       "      <td>CREW CAB 4.3L LS</td>\n",
       "      <td>NaN</td>\n",
       "      <td>...</td>\n",
       "      <td>3800.0</td>\n",
       "      <td>3587.0</td>\n",
       "      <td>4604.0</td>\n",
       "      <td>TX</td>\n",
       "      <td>4770.0</td>\n",
       "      <td>0</td>\n",
       "      <td>2322</td>\n",
       "      <td>S10 PICKUP</td>\n",
       "      <td>NaN</td>\n",
       "      <td>South</td>\n",
       "    </tr>\n",
       "  </tbody>\n",
       "</table>\n",
       "<p>7 rows × 31 columns</p>\n",
       "</div>"
      ],
      "text/plain": [
       "       RefId  IsBadBuy   PurchDate  Auction  VehicleAge       Make  \\\n",
       "23019  70466         0   1/15/2009    ADESA           5  CHEVROLET   \n",
       "28280  70482         0   1/15/2009    ADESA           3       FORD   \n",
       "28961  70469         0   1/15/2009    ADESA           5    PONTIAC   \n",
       "35224  24596         0   6/24/2009  MANHEIM           3      DODGE   \n",
       "40504  15917         0  10/13/2009  MANHEIM           4    MERCURY   \n",
       "48641  24585         0   6/24/2009  MANHEIM           3      DODGE   \n",
       "50661  70464         0   1/15/2009    ADESA           8  CHEVROLET   \n",
       "\n",
       "                      Model Trim          SubModel Color  ...  \\\n",
       "23019    IMPALA 3.4L V6 SFI  BAS     SEDAN LS 3.5L   NaN  ...   \n",
       "28280  FREESTAR FWD V6 3.9L   SE    PASSENGER 3.9L   NaN  ...   \n",
       "28961   GRAND AM V6 3.4L V6   SE         SEDAN GT1   NaN  ...   \n",
       "35224  STRATUS V6 2.7L V6 M  SXT         COUPE R/T   NaN  ...   \n",
       "40504   MONTEGO 3.0L V6 EFI  BAS      SEDAN LUXURY   RED  ...   \n",
       "48641  STRATUS V6 2.7L V6 M  SXT     SEDAN SXT FFV   NaN  ...   \n",
       "50661  S10 PICKUP 2WD 4C 2.  BAS  CREW CAB 4.3L LS   NaN  ...   \n",
       "\n",
       "      MMRCurrentAuctionCleanPrice MMRCurrentRetailAveragePrice  \\\n",
       "23019                      5219.0                       4845.0   \n",
       "28280                      7186.0                       6710.0   \n",
       "28961                      5001.0                       4615.0   \n",
       "35224                      6535.0                       6565.0   \n",
       "40504                      7948.0                      10946.0   \n",
       "48641                      6461.0                       6418.0   \n",
       "50661                      3800.0                       3587.0   \n",
       "\n",
       "       MMRCurrentRetailCleanPrice VNST VehBCost IsOnlineSale  WarrantyCost  \\\n",
       "23019                      6137.0   TX   4470.0            0          2152   \n",
       "28280                      8261.0   TX   4970.0            0          1633   \n",
       "28961                      5901.0   TX   4170.0            0          2412   \n",
       "35224                      7558.0   FL   6200.0            0          1215   \n",
       "40504                     11577.0   TX   7695.0            0          1506   \n",
       "48641                      7478.0   FL   6200.0            0           975   \n",
       "50661                      4604.0   TX   4770.0            0          2322   \n",
       "\n",
       "       ModelSimple  Doors  USRegion  \n",
       "23019       IMPALA    NaN     South  \n",
       "28280     FREESTAR    NaN     South  \n",
       "28961     GRAND AM    NaN     South  \n",
       "35224      STRATUS    NaN     South  \n",
       "40504      MONTEGO     4D     South  \n",
       "48641      STRATUS    NaN     South  \n",
       "50661   S10 PICKUP    NaN     South  \n",
       "\n",
       "[7 rows x 31 columns]"
      ]
     },
     "execution_count": 96,
     "metadata": {},
     "output_type": "execute_result"
    }
   ],
   "source": [
    "df[df['Transmission'].isnull()]"
   ]
  },
  {
   "cell_type": "markdown",
   "metadata": {},
   "source": [
    "Per quanto riguarda gli attributi __WheelType__ e __WheelTypeID__ dato che sono ridondanti dobbiamo sceglierne uno ed eventualmente correggere valori mancanti o errati.\n",
    "\n",
    "Abbiamo scelto il primo. "
   ]
  },
  {
   "cell_type": "code",
   "execution_count": 97,
   "metadata": {},
   "outputs": [
    {
     "data": {
      "text/plain": [
       "2547"
      ]
     },
     "execution_count": 97,
     "metadata": {},
     "output_type": "execute_result"
    }
   ],
   "source": [
    "df['WheelType'].isnull().sum()"
   ]
  },
  {
   "cell_type": "code",
   "execution_count": 98,
   "metadata": {},
   "outputs": [
    {
     "data": {
      "image/png": "[encoded data removed]",
      "text/plain": [
       "<Figure size 432x288 with 1 Axes>"
      ]
     },
     "metadata": {
      "needs_background": "light"
     },
     "output_type": "display_data"
    },
    {
     "data": {
      "text/plain": [
       "ALLOY      28307\n",
       "COVERS     26424\n",
       "SPECIAL      587\n",
       "Name: WheelType, dtype: int64"
      ]
     },
     "execution_count": 98,
     "metadata": {},
     "output_type": "execute_result"
    }
   ],
   "source": [
    "wtnull = df['WheelType'].copy(deep=True)\n",
    "wtnull.value_counts().plot(kind='bar')\n",
    "plt.show()\n",
    "wtnull.value_counts()"
   ]
  },
  {
   "cell_type": "code",
   "execution_count": 99,
   "metadata": {},
   "outputs": [
    {
     "data": {
      "image/png": "[encoded data removed]",
      "text/plain": [
       "<Figure size 432x288 with 1 Axes>"
      ]
     },
     "metadata": {
      "needs_background": "light"
     },
     "output_type": "display_data"
    },
    {
     "data": {
      "text/plain": [
       "ALLOY      29632\n",
       "COVERS     27613\n",
       "SPECIAL      619\n",
       "Name: WheelType, dtype: int64"
      ]
     },
     "execution_count": 99,
     "metadata": {},
     "output_type": "execute_result"
    }
   ],
   "source": [
    "fillna_group_distribution(['Trim'], 'WheelType')\n",
    "df['WheelType'].value_counts().plot(kind='bar')\n",
    "plt.show()\n",
    "df['WheelType'].value_counts()"
   ]
  },
  {
   "cell_type": "code",
   "execution_count": 100,
   "metadata": {},
   "outputs": [
    {
     "data": {
      "text/html": [
       "<div>\n",
       "<style scoped>\n",
       "    .dataframe tbody tr th:only-of-type {\n",
       "        vertical-align: middle;\n",
       "    }\n",
       "\n",
       "    .dataframe tbody tr th {\n",
       "        vertical-align: top;\n",
       "    }\n",
       "\n",
       "    .dataframe thead th {\n",
       "        text-align: right;\n",
       "    }\n",
       "</style>\n",
       "<table border=\"1\" class=\"dataframe\">\n",
       "  <thead>\n",
       "    <tr style=\"text-align: right;\">\n",
       "      <th></th>\n",
       "      <th>RefId</th>\n",
       "      <th>IsBadBuy</th>\n",
       "      <th>PurchDate</th>\n",
       "      <th>Auction</th>\n",
       "      <th>VehicleAge</th>\n",
       "      <th>Make</th>\n",
       "      <th>Model</th>\n",
       "      <th>Trim</th>\n",
       "      <th>SubModel</th>\n",
       "      <th>Color</th>\n",
       "      <th>...</th>\n",
       "      <th>MMRCurrentAuctionCleanPrice</th>\n",
       "      <th>MMRCurrentRetailAveragePrice</th>\n",
       "      <th>MMRCurrentRetailCleanPrice</th>\n",
       "      <th>VNST</th>\n",
       "      <th>VehBCost</th>\n",
       "      <th>IsOnlineSale</th>\n",
       "      <th>WarrantyCost</th>\n",
       "      <th>ModelSimple</th>\n",
       "      <th>Doors</th>\n",
       "      <th>USRegion</th>\n",
       "    </tr>\n",
       "  </thead>\n",
       "  <tbody>\n",
       "    <tr>\n",
       "      <td>7243</td>\n",
       "      <td>60408</td>\n",
       "      <td>1</td>\n",
       "      <td>12/3/2010</td>\n",
       "      <td>ADESA</td>\n",
       "      <td>9</td>\n",
       "      <td>SUZUKI</td>\n",
       "      <td>GRAND VITARA 4WD</td>\n",
       "      <td>JLX</td>\n",
       "      <td>SPORT UTILITY JLX</td>\n",
       "      <td>WHITE</td>\n",
       "      <td>...</td>\n",
       "      <td>3119.0</td>\n",
       "      <td>4851.0</td>\n",
       "      <td>5750.0</td>\n",
       "      <td>TN</td>\n",
       "      <td>3390.0</td>\n",
       "      <td>0</td>\n",
       "      <td>1785</td>\n",
       "      <td>GRAND VITARA</td>\n",
       "      <td>4D</td>\n",
       "      <td>South</td>\n",
       "    </tr>\n",
       "  </tbody>\n",
       "</table>\n",
       "<p>1 rows × 31 columns</p>\n",
       "</div>"
      ],
      "text/plain": [
       "      RefId  IsBadBuy  PurchDate Auction  VehicleAge    Make  \\\n",
       "7243  60408         1  12/3/2010   ADESA           9  SUZUKI   \n",
       "\n",
       "                 Model Trim           SubModel  Color  ...  \\\n",
       "7243  GRAND VITARA 4WD  JLX  SPORT UTILITY JLX  WHITE  ...   \n",
       "\n",
       "     MMRCurrentAuctionCleanPrice MMRCurrentRetailAveragePrice  \\\n",
       "7243                      3119.0                       4851.0   \n",
       "\n",
       "      MMRCurrentRetailCleanPrice VNST VehBCost IsOnlineSale  WarrantyCost  \\\n",
       "7243                      5750.0   TN   3390.0            0          1785   \n",
       "\n",
       "       ModelSimple  Doors  USRegion  \n",
       "7243  GRAND VITARA     4D     South  \n",
       "\n",
       "[1 rows x 31 columns]"
      ]
     },
     "execution_count": 100,
     "metadata": {},
     "output_type": "execute_result"
    }
   ],
   "source": [
    "df[df.WheelType.isnull()]"
   ]
  },
  {
   "cell_type": "code",
   "execution_count": 101,
   "metadata": {},
   "outputs": [
    {
     "data": {
      "text/html": [
       "<div>\n",
       "<style scoped>\n",
       "    .dataframe tbody tr th:only-of-type {\n",
       "        vertical-align: middle;\n",
       "    }\n",
       "\n",
       "    .dataframe tbody tr th {\n",
       "        vertical-align: top;\n",
       "    }\n",
       "\n",
       "    .dataframe thead th {\n",
       "        text-align: right;\n",
       "    }\n",
       "</style>\n",
       "<table border=\"1\" class=\"dataframe\">\n",
       "  <thead>\n",
       "    <tr style=\"text-align: right;\">\n",
       "      <th></th>\n",
       "      <th>Model</th>\n",
       "      <th>WheelType</th>\n",
       "      <th>VehicleAge</th>\n",
       "      <th>SubModel</th>\n",
       "      <th>Trim</th>\n",
       "    </tr>\n",
       "  </thead>\n",
       "  <tbody>\n",
       "    <tr>\n",
       "      <td>6675</td>\n",
       "      <td>GRAND VITARA 4WD</td>\n",
       "      <td>ALLOY</td>\n",
       "      <td>6</td>\n",
       "      <td>SPORT UTILITY JS</td>\n",
       "      <td>LX</td>\n",
       "    </tr>\n",
       "    <tr>\n",
       "      <td>7243</td>\n",
       "      <td>GRAND VITARA 4WD</td>\n",
       "      <td>NaN</td>\n",
       "      <td>9</td>\n",
       "      <td>SPORT UTILITY JLX</td>\n",
       "      <td>JLX</td>\n",
       "    </tr>\n",
       "    <tr>\n",
       "      <td>20589</td>\n",
       "      <td>GRAND VITARA 4WD</td>\n",
       "      <td>ALLOY</td>\n",
       "      <td>5</td>\n",
       "      <td>SPORT UTILITY JS</td>\n",
       "      <td>LX</td>\n",
       "    </tr>\n",
       "    <tr>\n",
       "      <td>35467</td>\n",
       "      <td>GRAND VITARA 4WD</td>\n",
       "      <td>ALLOY</td>\n",
       "      <td>6</td>\n",
       "      <td>SPORT UTILITY JS</td>\n",
       "      <td>LX</td>\n",
       "    </tr>\n",
       "  </tbody>\n",
       "</table>\n",
       "</div>"
      ],
      "text/plain": [
       "                  Model WheelType  VehicleAge           SubModel Trim\n",
       "6675   GRAND VITARA 4WD     ALLOY           6   SPORT UTILITY JS   LX\n",
       "7243   GRAND VITARA 4WD       NaN           9  SPORT UTILITY JLX  JLX\n",
       "20589  GRAND VITARA 4WD     ALLOY           5   SPORT UTILITY JS   LX\n",
       "35467  GRAND VITARA 4WD     ALLOY           6   SPORT UTILITY JS   LX"
      ]
     },
     "execution_count": 101,
     "metadata": {},
     "output_type": "execute_result"
    }
   ],
   "source": [
    "df[df['Model']=='GRAND VITARA 4WD'][['Model','WheelType','VehicleAge','SubModel','Trim']]"
   ]
  },
  {
   "cell_type": "markdown",
   "metadata": {},
   "source": [
    "Secondo cars.com alla pagina https://www.cars.com/research/suzuki-grand_vitara-2001/specs/usb10szs062a0/ questa macchina con questo trim level ha i cerchioni covers di default e alloy come optional."
   ]
  },
  {
   "cell_type": "markdown",
   "metadata": {},
   "source": [
    "Per il momento assumiamo che sia ALLOY, per stare in linea con i valori delle altre con lo stesso modello."
   ]
  },
  {
   "cell_type": "code",
   "execution_count": 102,
   "metadata": {},
   "outputs": [],
   "source": [
    "df.loc[df['Model']=='GRAND VITARA 4WD', 'WheelType']='ALLOY'"
   ]
  },
  {
   "cell_type": "markdown",
   "metadata": {},
   "source": [
    "Dai grafici qualche cella sopra, vedimao che la distribuzione di valori è rispettata da queste sostituzioni, le prendiamo per buone."
   ]
  },
  {
   "cell_type": "markdown",
   "metadata": {},
   "source": [
    "Per l'attributo __Color__ useremo semplicemente la distribuzione di probabilità per sostituire i valori mancanti."
   ]
  },
  {
   "cell_type": "code",
   "execution_count": 103,
   "metadata": {},
   "outputs": [
    {
     "data": {
      "text/html": [
       "<div>\n",
       "<style scoped>\n",
       "    .dataframe tbody tr th:only-of-type {\n",
       "        vertical-align: middle;\n",
       "    }\n",
       "\n",
       "    .dataframe tbody tr th {\n",
       "        vertical-align: top;\n",
       "    }\n",
       "\n",
       "    .dataframe thead th {\n",
       "        text-align: right;\n",
       "    }\n",
       "</style>\n",
       "<table border=\"1\" class=\"dataframe\">\n",
       "  <thead>\n",
       "    <tr style=\"text-align: right;\">\n",
       "      <th></th>\n",
       "      <th>RefId</th>\n",
       "      <th>IsBadBuy</th>\n",
       "      <th>PurchDate</th>\n",
       "      <th>Auction</th>\n",
       "      <th>VehicleAge</th>\n",
       "      <th>Make</th>\n",
       "      <th>Model</th>\n",
       "      <th>Trim</th>\n",
       "      <th>SubModel</th>\n",
       "      <th>Color</th>\n",
       "      <th>...</th>\n",
       "      <th>MMRCurrentAuctionCleanPrice</th>\n",
       "      <th>MMRCurrentRetailAveragePrice</th>\n",
       "      <th>MMRCurrentRetailCleanPrice</th>\n",
       "      <th>VNST</th>\n",
       "      <th>VehBCost</th>\n",
       "      <th>IsOnlineSale</th>\n",
       "      <th>WarrantyCost</th>\n",
       "      <th>ModelSimple</th>\n",
       "      <th>Doors</th>\n",
       "      <th>USRegion</th>\n",
       "    </tr>\n",
       "  </thead>\n",
       "  <tbody>\n",
       "    <tr>\n",
       "      <td>23019</td>\n",
       "      <td>70466</td>\n",
       "      <td>0</td>\n",
       "      <td>1/15/2009</td>\n",
       "      <td>ADESA</td>\n",
       "      <td>5</td>\n",
       "      <td>CHEVROLET</td>\n",
       "      <td>IMPALA 3.4L V6 SFI</td>\n",
       "      <td>BAS</td>\n",
       "      <td>SEDAN LS 3.5L</td>\n",
       "      <td>NaN</td>\n",
       "      <td>...</td>\n",
       "      <td>5219.0</td>\n",
       "      <td>4845.0</td>\n",
       "      <td>6137.0</td>\n",
       "      <td>TX</td>\n",
       "      <td>4470.0</td>\n",
       "      <td>0</td>\n",
       "      <td>2152</td>\n",
       "      <td>IMPALA</td>\n",
       "      <td>NaN</td>\n",
       "      <td>South</td>\n",
       "    </tr>\n",
       "    <tr>\n",
       "      <td>28280</td>\n",
       "      <td>70482</td>\n",
       "      <td>0</td>\n",
       "      <td>1/15/2009</td>\n",
       "      <td>ADESA</td>\n",
       "      <td>3</td>\n",
       "      <td>FORD</td>\n",
       "      <td>FREESTAR FWD V6 3.9L</td>\n",
       "      <td>SE</td>\n",
       "      <td>PASSENGER 3.9L</td>\n",
       "      <td>NaN</td>\n",
       "      <td>...</td>\n",
       "      <td>7186.0</td>\n",
       "      <td>6710.0</td>\n",
       "      <td>8261.0</td>\n",
       "      <td>TX</td>\n",
       "      <td>4970.0</td>\n",
       "      <td>0</td>\n",
       "      <td>1633</td>\n",
       "      <td>FREESTAR</td>\n",
       "      <td>NaN</td>\n",
       "      <td>South</td>\n",
       "    </tr>\n",
       "    <tr>\n",
       "      <td>28961</td>\n",
       "      <td>70469</td>\n",
       "      <td>0</td>\n",
       "      <td>1/15/2009</td>\n",
       "      <td>ADESA</td>\n",
       "      <td>5</td>\n",
       "      <td>PONTIAC</td>\n",
       "      <td>GRAND AM V6 3.4L V6</td>\n",
       "      <td>SE</td>\n",
       "      <td>SEDAN GT1</td>\n",
       "      <td>NaN</td>\n",
       "      <td>...</td>\n",
       "      <td>5001.0</td>\n",
       "      <td>4615.0</td>\n",
       "      <td>5901.0</td>\n",
       "      <td>TX</td>\n",
       "      <td>4170.0</td>\n",
       "      <td>0</td>\n",
       "      <td>2412</td>\n",
       "      <td>GRAND AM</td>\n",
       "      <td>NaN</td>\n",
       "      <td>South</td>\n",
       "    </tr>\n",
       "    <tr>\n",
       "      <td>35224</td>\n",
       "      <td>24596</td>\n",
       "      <td>0</td>\n",
       "      <td>6/24/2009</td>\n",
       "      <td>MANHEIM</td>\n",
       "      <td>3</td>\n",
       "      <td>DODGE</td>\n",
       "      <td>STRATUS V6 2.7L V6 M</td>\n",
       "      <td>SXT</td>\n",
       "      <td>COUPE R/T</td>\n",
       "      <td>NaN</td>\n",
       "      <td>...</td>\n",
       "      <td>6535.0</td>\n",
       "      <td>6565.0</td>\n",
       "      <td>7558.0</td>\n",
       "      <td>FL</td>\n",
       "      <td>6200.0</td>\n",
       "      <td>0</td>\n",
       "      <td>1215</td>\n",
       "      <td>STRATUS</td>\n",
       "      <td>NaN</td>\n",
       "      <td>South</td>\n",
       "    </tr>\n",
       "    <tr>\n",
       "      <td>48641</td>\n",
       "      <td>24585</td>\n",
       "      <td>0</td>\n",
       "      <td>6/24/2009</td>\n",
       "      <td>MANHEIM</td>\n",
       "      <td>3</td>\n",
       "      <td>DODGE</td>\n",
       "      <td>STRATUS V6 2.7L V6 M</td>\n",
       "      <td>SXT</td>\n",
       "      <td>SEDAN SXT FFV</td>\n",
       "      <td>NaN</td>\n",
       "      <td>...</td>\n",
       "      <td>6461.0</td>\n",
       "      <td>6418.0</td>\n",
       "      <td>7478.0</td>\n",
       "      <td>FL</td>\n",
       "      <td>6200.0</td>\n",
       "      <td>0</td>\n",
       "      <td>975</td>\n",
       "      <td>STRATUS</td>\n",
       "      <td>NaN</td>\n",
       "      <td>South</td>\n",
       "    </tr>\n",
       "    <tr>\n",
       "      <td>50661</td>\n",
       "      <td>70464</td>\n",
       "      <td>0</td>\n",
       "      <td>1/15/2009</td>\n",
       "      <td>ADESA</td>\n",
       "      <td>8</td>\n",
       "      <td>CHEVROLET</td>\n",
       "      <td>S10 PICKUP 2WD 4C 2.</td>\n",
       "      <td>BAS</td>\n",
       "      <td>CREW CAB 4.3L LS</td>\n",
       "      <td>NaN</td>\n",
       "      <td>...</td>\n",
       "      <td>3800.0</td>\n",
       "      <td>3587.0</td>\n",
       "      <td>4604.0</td>\n",
       "      <td>TX</td>\n",
       "      <td>4770.0</td>\n",
       "      <td>0</td>\n",
       "      <td>2322</td>\n",
       "      <td>S10 PICKUP</td>\n",
       "      <td>NaN</td>\n",
       "      <td>South</td>\n",
       "    </tr>\n",
       "  </tbody>\n",
       "</table>\n",
       "<p>6 rows × 31 columns</p>\n",
       "</div>"
      ],
      "text/plain": [
       "       RefId  IsBadBuy  PurchDate  Auction  VehicleAge       Make  \\\n",
       "23019  70466         0  1/15/2009    ADESA           5  CHEVROLET   \n",
       "28280  70482         0  1/15/2009    ADESA           3       FORD   \n",
       "28961  70469         0  1/15/2009    ADESA           5    PONTIAC   \n",
       "35224  24596         0  6/24/2009  MANHEIM           3      DODGE   \n",
       "48641  24585         0  6/24/2009  MANHEIM           3      DODGE   \n",
       "50661  70464         0  1/15/2009    ADESA           8  CHEVROLET   \n",
       "\n",
       "                      Model Trim          SubModel Color  ...  \\\n",
       "23019    IMPALA 3.4L V6 SFI  BAS     SEDAN LS 3.5L   NaN  ...   \n",
       "28280  FREESTAR FWD V6 3.9L   SE    PASSENGER 3.9L   NaN  ...   \n",
       "28961   GRAND AM V6 3.4L V6   SE         SEDAN GT1   NaN  ...   \n",
       "35224  STRATUS V6 2.7L V6 M  SXT         COUPE R/T   NaN  ...   \n",
       "48641  STRATUS V6 2.7L V6 M  SXT     SEDAN SXT FFV   NaN  ...   \n",
       "50661  S10 PICKUP 2WD 4C 2.  BAS  CREW CAB 4.3L LS   NaN  ...   \n",
       "\n",
       "      MMRCurrentAuctionCleanPrice MMRCurrentRetailAveragePrice  \\\n",
       "23019                      5219.0                       4845.0   \n",
       "28280                      7186.0                       6710.0   \n",
       "28961                      5001.0                       4615.0   \n",
       "35224                      6535.0                       6565.0   \n",
       "48641                      6461.0                       6418.0   \n",
       "50661                      3800.0                       3587.0   \n",
       "\n",
       "       MMRCurrentRetailCleanPrice VNST VehBCost IsOnlineSale  WarrantyCost  \\\n",
       "23019                      6137.0   TX   4470.0            0          2152   \n",
       "28280                      8261.0   TX   4970.0            0          1633   \n",
       "28961                      5901.0   TX   4170.0            0          2412   \n",
       "35224                      7558.0   FL   6200.0            0          1215   \n",
       "48641                      7478.0   FL   6200.0            0           975   \n",
       "50661                      4604.0   TX   4770.0            0          2322   \n",
       "\n",
       "       ModelSimple  Doors  USRegion  \n",
       "23019       IMPALA    NaN     South  \n",
       "28280     FREESTAR    NaN     South  \n",
       "28961     GRAND AM    NaN     South  \n",
       "35224      STRATUS    NaN     South  \n",
       "48641      STRATUS    NaN     South  \n",
       "50661   S10 PICKUP    NaN     South  \n",
       "\n",
       "[6 rows x 31 columns]"
      ]
     },
     "execution_count": 103,
     "metadata": {},
     "output_type": "execute_result"
    }
   ],
   "source": [
    "df[df['Color'].isnull()]"
   ]
  },
  {
   "cell_type": "code",
   "execution_count": 104,
   "metadata": {},
   "outputs": [
    {
     "data": {
      "image/png": "[encoded data removed]",
      "text/plain": [
       "<Figure size 432x288 with 1 Axes>"
      ]
     },
     "metadata": {
      "needs_background": "light"
     },
     "output_type": "display_data"
    }
   ],
   "source": [
    "df['Color'].value_counts().plot(kind='bar')\n",
    "plt.show()"
   ]
  },
  {
   "cell_type": "code",
   "execution_count": 105,
   "metadata": {},
   "outputs": [],
   "source": [
    "fillna_distribution('Color')"
   ]
  },
  {
   "cell_type": "code",
   "execution_count": 106,
   "metadata": {},
   "outputs": [
    {
     "data": {
      "image/png": "[encoded data removed]",
      "text/plain": [
       "<Figure size 432x288 with 1 Axes>"
      ]
     },
     "metadata": {
      "needs_background": "light"
     },
     "output_type": "display_data"
    }
   ],
   "source": [
    "df['Color'].value_counts().plot(kind='bar')\n",
    "plt.show()"
   ]
  },
  {
   "cell_type": "code",
   "execution_count": 107,
   "metadata": {},
   "outputs": [
    {
     "data": {
      "text/plain": [
       "0"
      ]
     },
     "execution_count": 107,
     "metadata": {},
     "output_type": "execute_result"
    }
   ],
   "source": [
    "df['Color'].isnull().sum()"
   ]
  },
  {
   "cell_type": "markdown",
   "metadata": {},
   "source": [
    "Anche questa sostituzione rispetta la distribuzione dei valori originale."
   ]
  },
  {
   "cell_type": "markdown",
   "metadata": {},
   "source": [
    "Il tipo di trasmissione, verosimilmente, dipende da modello e trim level della macchina."
   ]
  },
  {
   "cell_type": "code",
   "execution_count": 108,
   "metadata": {},
   "outputs": [
    {
     "data": {
      "text/html": [
       "<div>\n",
       "<style scoped>\n",
       "    .dataframe tbody tr th:only-of-type {\n",
       "        vertical-align: middle;\n",
       "    }\n",
       "\n",
       "    .dataframe tbody tr th {\n",
       "        vertical-align: top;\n",
       "    }\n",
       "\n",
       "    .dataframe thead th {\n",
       "        text-align: right;\n",
       "    }\n",
       "</style>\n",
       "<table border=\"1\" class=\"dataframe\">\n",
       "  <thead>\n",
       "    <tr style=\"text-align: right;\">\n",
       "      <th></th>\n",
       "      <th>RefId</th>\n",
       "      <th>IsBadBuy</th>\n",
       "      <th>PurchDate</th>\n",
       "      <th>Auction</th>\n",
       "      <th>VehicleAge</th>\n",
       "      <th>Make</th>\n",
       "      <th>Model</th>\n",
       "      <th>Trim</th>\n",
       "      <th>SubModel</th>\n",
       "      <th>Color</th>\n",
       "      <th>...</th>\n",
       "      <th>MMRCurrentAuctionCleanPrice</th>\n",
       "      <th>MMRCurrentRetailAveragePrice</th>\n",
       "      <th>MMRCurrentRetailCleanPrice</th>\n",
       "      <th>VNST</th>\n",
       "      <th>VehBCost</th>\n",
       "      <th>IsOnlineSale</th>\n",
       "      <th>WarrantyCost</th>\n",
       "      <th>ModelSimple</th>\n",
       "      <th>Doors</th>\n",
       "      <th>USRegion</th>\n",
       "    </tr>\n",
       "  </thead>\n",
       "  <tbody>\n",
       "    <tr>\n",
       "      <td>23019</td>\n",
       "      <td>70466</td>\n",
       "      <td>0</td>\n",
       "      <td>1/15/2009</td>\n",
       "      <td>ADESA</td>\n",
       "      <td>5</td>\n",
       "      <td>CHEVROLET</td>\n",
       "      <td>IMPALA 3.4L V6 SFI</td>\n",
       "      <td>BAS</td>\n",
       "      <td>SEDAN LS 3.5L</td>\n",
       "      <td>WHITE</td>\n",
       "      <td>...</td>\n",
       "      <td>5219.0</td>\n",
       "      <td>4845.0</td>\n",
       "      <td>6137.0</td>\n",
       "      <td>TX</td>\n",
       "      <td>4470.0</td>\n",
       "      <td>0</td>\n",
       "      <td>2152</td>\n",
       "      <td>IMPALA</td>\n",
       "      <td>NaN</td>\n",
       "      <td>South</td>\n",
       "    </tr>\n",
       "    <tr>\n",
       "      <td>28280</td>\n",
       "      <td>70482</td>\n",
       "      <td>0</td>\n",
       "      <td>1/15/2009</td>\n",
       "      <td>ADESA</td>\n",
       "      <td>3</td>\n",
       "      <td>FORD</td>\n",
       "      <td>FREESTAR FWD V6 3.9L</td>\n",
       "      <td>SE</td>\n",
       "      <td>PASSENGER 3.9L</td>\n",
       "      <td>BLACK</td>\n",
       "      <td>...</td>\n",
       "      <td>7186.0</td>\n",
       "      <td>6710.0</td>\n",
       "      <td>8261.0</td>\n",
       "      <td>TX</td>\n",
       "      <td>4970.0</td>\n",
       "      <td>0</td>\n",
       "      <td>1633</td>\n",
       "      <td>FREESTAR</td>\n",
       "      <td>NaN</td>\n",
       "      <td>South</td>\n",
       "    </tr>\n",
       "    <tr>\n",
       "      <td>28961</td>\n",
       "      <td>70469</td>\n",
       "      <td>0</td>\n",
       "      <td>1/15/2009</td>\n",
       "      <td>ADESA</td>\n",
       "      <td>5</td>\n",
       "      <td>PONTIAC</td>\n",
       "      <td>GRAND AM V6 3.4L V6</td>\n",
       "      <td>SE</td>\n",
       "      <td>SEDAN GT1</td>\n",
       "      <td>GOLD</td>\n",
       "      <td>...</td>\n",
       "      <td>5001.0</td>\n",
       "      <td>4615.0</td>\n",
       "      <td>5901.0</td>\n",
       "      <td>TX</td>\n",
       "      <td>4170.0</td>\n",
       "      <td>0</td>\n",
       "      <td>2412</td>\n",
       "      <td>GRAND AM</td>\n",
       "      <td>NaN</td>\n",
       "      <td>South</td>\n",
       "    </tr>\n",
       "    <tr>\n",
       "      <td>35224</td>\n",
       "      <td>24596</td>\n",
       "      <td>0</td>\n",
       "      <td>6/24/2009</td>\n",
       "      <td>MANHEIM</td>\n",
       "      <td>3</td>\n",
       "      <td>DODGE</td>\n",
       "      <td>STRATUS V6 2.7L V6 M</td>\n",
       "      <td>SXT</td>\n",
       "      <td>COUPE R/T</td>\n",
       "      <td>BLUE</td>\n",
       "      <td>...</td>\n",
       "      <td>6535.0</td>\n",
       "      <td>6565.0</td>\n",
       "      <td>7558.0</td>\n",
       "      <td>FL</td>\n",
       "      <td>6200.0</td>\n",
       "      <td>0</td>\n",
       "      <td>1215</td>\n",
       "      <td>STRATUS</td>\n",
       "      <td>NaN</td>\n",
       "      <td>South</td>\n",
       "    </tr>\n",
       "    <tr>\n",
       "      <td>40504</td>\n",
       "      <td>15917</td>\n",
       "      <td>0</td>\n",
       "      <td>10/13/2009</td>\n",
       "      <td>MANHEIM</td>\n",
       "      <td>4</td>\n",
       "      <td>MERCURY</td>\n",
       "      <td>MONTEGO 3.0L V6 EFI</td>\n",
       "      <td>BAS</td>\n",
       "      <td>SEDAN LUXURY</td>\n",
       "      <td>RED</td>\n",
       "      <td>...</td>\n",
       "      <td>7948.0</td>\n",
       "      <td>10946.0</td>\n",
       "      <td>11577.0</td>\n",
       "      <td>TX</td>\n",
       "      <td>7695.0</td>\n",
       "      <td>0</td>\n",
       "      <td>1506</td>\n",
       "      <td>MONTEGO</td>\n",
       "      <td>4D</td>\n",
       "      <td>South</td>\n",
       "    </tr>\n",
       "    <tr>\n",
       "      <td>48641</td>\n",
       "      <td>24585</td>\n",
       "      <td>0</td>\n",
       "      <td>6/24/2009</td>\n",
       "      <td>MANHEIM</td>\n",
       "      <td>3</td>\n",
       "      <td>DODGE</td>\n",
       "      <td>STRATUS V6 2.7L V6 M</td>\n",
       "      <td>SXT</td>\n",
       "      <td>SEDAN SXT FFV</td>\n",
       "      <td>GOLD</td>\n",
       "      <td>...</td>\n",
       "      <td>6461.0</td>\n",
       "      <td>6418.0</td>\n",
       "      <td>7478.0</td>\n",
       "      <td>FL</td>\n",
       "      <td>6200.0</td>\n",
       "      <td>0</td>\n",
       "      <td>975</td>\n",
       "      <td>STRATUS</td>\n",
       "      <td>NaN</td>\n",
       "      <td>South</td>\n",
       "    </tr>\n",
       "    <tr>\n",
       "      <td>50661</td>\n",
       "      <td>70464</td>\n",
       "      <td>0</td>\n",
       "      <td>1/15/2009</td>\n",
       "      <td>ADESA</td>\n",
       "      <td>8</td>\n",
       "      <td>CHEVROLET</td>\n",
       "      <td>S10 PICKUP 2WD 4C 2.</td>\n",
       "      <td>BAS</td>\n",
       "      <td>CREW CAB 4.3L LS</td>\n",
       "      <td>BLUE</td>\n",
       "      <td>...</td>\n",
       "      <td>3800.0</td>\n",
       "      <td>3587.0</td>\n",
       "      <td>4604.0</td>\n",
       "      <td>TX</td>\n",
       "      <td>4770.0</td>\n",
       "      <td>0</td>\n",
       "      <td>2322</td>\n",
       "      <td>S10 PICKUP</td>\n",
       "      <td>NaN</td>\n",
       "      <td>South</td>\n",
       "    </tr>\n",
       "  </tbody>\n",
       "</table>\n",
       "<p>7 rows × 31 columns</p>\n",
       "</div>"
      ],
      "text/plain": [
       "       RefId  IsBadBuy   PurchDate  Auction  VehicleAge       Make  \\\n",
       "23019  70466         0   1/15/2009    ADESA           5  CHEVROLET   \n",
       "28280  70482         0   1/15/2009    ADESA           3       FORD   \n",
       "28961  70469         0   1/15/2009    ADESA           5    PONTIAC   \n",
       "35224  24596         0   6/24/2009  MANHEIM           3      DODGE   \n",
       "40504  15917         0  10/13/2009  MANHEIM           4    MERCURY   \n",
       "48641  24585         0   6/24/2009  MANHEIM           3      DODGE   \n",
       "50661  70464         0   1/15/2009    ADESA           8  CHEVROLET   \n",
       "\n",
       "                      Model Trim          SubModel  Color  ...  \\\n",
       "23019    IMPALA 3.4L V6 SFI  BAS     SEDAN LS 3.5L  WHITE  ...   \n",
       "28280  FREESTAR FWD V6 3.9L   SE    PASSENGER 3.9L  BLACK  ...   \n",
       "28961   GRAND AM V6 3.4L V6   SE         SEDAN GT1   GOLD  ...   \n",
       "35224  STRATUS V6 2.7L V6 M  SXT         COUPE R/T   BLUE  ...   \n",
       "40504   MONTEGO 3.0L V6 EFI  BAS      SEDAN LUXURY    RED  ...   \n",
       "48641  STRATUS V6 2.7L V6 M  SXT     SEDAN SXT FFV   GOLD  ...   \n",
       "50661  S10 PICKUP 2WD 4C 2.  BAS  CREW CAB 4.3L LS   BLUE  ...   \n",
       "\n",
       "      MMRCurrentAuctionCleanPrice MMRCurrentRetailAveragePrice  \\\n",
       "23019                      5219.0                       4845.0   \n",
       "28280                      7186.0                       6710.0   \n",
       "28961                      5001.0                       4615.0   \n",
       "35224                      6535.0                       6565.0   \n",
       "40504                      7948.0                      10946.0   \n",
       "48641                      6461.0                       6418.0   \n",
       "50661                      3800.0                       3587.0   \n",
       "\n",
       "       MMRCurrentRetailCleanPrice VNST VehBCost IsOnlineSale  WarrantyCost  \\\n",
       "23019                      6137.0   TX   4470.0            0          2152   \n",
       "28280                      8261.0   TX   4970.0            0          1633   \n",
       "28961                      5901.0   TX   4170.0            0          2412   \n",
       "35224                      7558.0   FL   6200.0            0          1215   \n",
       "40504                     11577.0   TX   7695.0            0          1506   \n",
       "48641                      7478.0   FL   6200.0            0           975   \n",
       "50661                      4604.0   TX   4770.0            0          2322   \n",
       "\n",
       "       ModelSimple  Doors  USRegion  \n",
       "23019       IMPALA    NaN     South  \n",
       "28280     FREESTAR    NaN     South  \n",
       "28961     GRAND AM    NaN     South  \n",
       "35224      STRATUS    NaN     South  \n",
       "40504      MONTEGO     4D     South  \n",
       "48641      STRATUS    NaN     South  \n",
       "50661   S10 PICKUP    NaN     South  \n",
       "\n",
       "[7 rows x 31 columns]"
      ]
     },
     "execution_count": 108,
     "metadata": {},
     "output_type": "execute_result"
    }
   ],
   "source": [
    "df[df['Transmission'].isnull()]"
   ]
  },
  {
   "cell_type": "code",
   "execution_count": 109,
   "metadata": {},
   "outputs": [],
   "source": [
    "fillna_group_distribution(['Trim','SubModel'], 'Transmission')"
   ]
  },
  {
   "cell_type": "markdown",
   "metadata": {},
   "source": [
    "7 valori corretti in questo modo sicuramente non alterano la distribuzione dei valori dell'attributo __Transmission__."
   ]
  },
  {
   "cell_type": "code",
   "execution_count": 110,
   "metadata": {},
   "outputs": [
    {
     "data": {
      "text/plain": [
       "RefId                                   0\n",
       "IsBadBuy                                0\n",
       "PurchDate                               0\n",
       "Auction                                 0\n",
       "VehicleAge                              0\n",
       "Make                                    0\n",
       "Model                                   0\n",
       "Trim                                    0\n",
       "SubModel                                0\n",
       "Color                                   0\n",
       "Transmission                            5\n",
       "WheelType                               0\n",
       "VehOdo                                  0\n",
       "Nationality                             0\n",
       "Size                                    0\n",
       "TopThreeAmericanName                    0\n",
       "MMRAcquisitionAuctionAveragePrice      13\n",
       "MMRAcquisitionAuctionCleanPrice        13\n",
       "MMRAcquisitionRetailAveragePrice       13\n",
       "MMRAcquisitonRetailCleanPrice          13\n",
       "MMRCurrentAuctionAveragePrice         244\n",
       "MMRCurrentAuctionCleanPrice           244\n",
       "MMRCurrentRetailAveragePrice          244\n",
       "MMRCurrentRetailCleanPrice            244\n",
       "VNST                                    0\n",
       "VehBCost                                0\n",
       "IsOnlineSale                            0\n",
       "WarrantyCost                            0\n",
       "ModelSimple                             0\n",
       "Doors                                7836\n",
       "USRegion                                0\n",
       "dtype: int64"
      ]
     },
     "execution_count": 110,
     "metadata": {},
     "output_type": "execute_result"
    }
   ],
   "source": [
    "df.isnull().sum()"
   ]
  },
  {
   "cell_type": "code",
   "execution_count": 111,
   "metadata": {},
   "outputs": [
    {
     "data": {
      "text/html": [
       "<div>\n",
       "<style scoped>\n",
       "    .dataframe tbody tr th:only-of-type {\n",
       "        vertical-align: middle;\n",
       "    }\n",
       "\n",
       "    .dataframe tbody tr th {\n",
       "        vertical-align: top;\n",
       "    }\n",
       "\n",
       "    .dataframe thead th {\n",
       "        text-align: right;\n",
       "    }\n",
       "</style>\n",
       "<table border=\"1\" class=\"dataframe\">\n",
       "  <thead>\n",
       "    <tr style=\"text-align: right;\">\n",
       "      <th></th>\n",
       "      <th>RefId</th>\n",
       "      <th>IsBadBuy</th>\n",
       "      <th>PurchDate</th>\n",
       "      <th>Auction</th>\n",
       "      <th>VehicleAge</th>\n",
       "      <th>Make</th>\n",
       "      <th>Model</th>\n",
       "      <th>Trim</th>\n",
       "      <th>SubModel</th>\n",
       "      <th>Color</th>\n",
       "      <th>...</th>\n",
       "      <th>MMRCurrentAuctionCleanPrice</th>\n",
       "      <th>MMRCurrentRetailAveragePrice</th>\n",
       "      <th>MMRCurrentRetailCleanPrice</th>\n",
       "      <th>VNST</th>\n",
       "      <th>VehBCost</th>\n",
       "      <th>IsOnlineSale</th>\n",
       "      <th>WarrantyCost</th>\n",
       "      <th>ModelSimple</th>\n",
       "      <th>Doors</th>\n",
       "      <th>USRegion</th>\n",
       "    </tr>\n",
       "  </thead>\n",
       "  <tbody>\n",
       "    <tr>\n",
       "      <td>23019</td>\n",
       "      <td>70466</td>\n",
       "      <td>0</td>\n",
       "      <td>1/15/2009</td>\n",
       "      <td>ADESA</td>\n",
       "      <td>5</td>\n",
       "      <td>CHEVROLET</td>\n",
       "      <td>IMPALA 3.4L V6 SFI</td>\n",
       "      <td>BAS</td>\n",
       "      <td>SEDAN LS 3.5L</td>\n",
       "      <td>WHITE</td>\n",
       "      <td>...</td>\n",
       "      <td>5219.0</td>\n",
       "      <td>4845.0</td>\n",
       "      <td>6137.0</td>\n",
       "      <td>TX</td>\n",
       "      <td>4470.0</td>\n",
       "      <td>0</td>\n",
       "      <td>2152</td>\n",
       "      <td>IMPALA</td>\n",
       "      <td>NaN</td>\n",
       "      <td>South</td>\n",
       "    </tr>\n",
       "    <tr>\n",
       "      <td>28280</td>\n",
       "      <td>70482</td>\n",
       "      <td>0</td>\n",
       "      <td>1/15/2009</td>\n",
       "      <td>ADESA</td>\n",
       "      <td>3</td>\n",
       "      <td>FORD</td>\n",
       "      <td>FREESTAR FWD V6 3.9L</td>\n",
       "      <td>SE</td>\n",
       "      <td>PASSENGER 3.9L</td>\n",
       "      <td>BLACK</td>\n",
       "      <td>...</td>\n",
       "      <td>7186.0</td>\n",
       "      <td>6710.0</td>\n",
       "      <td>8261.0</td>\n",
       "      <td>TX</td>\n",
       "      <td>4970.0</td>\n",
       "      <td>0</td>\n",
       "      <td>1633</td>\n",
       "      <td>FREESTAR</td>\n",
       "      <td>NaN</td>\n",
       "      <td>South</td>\n",
       "    </tr>\n",
       "    <tr>\n",
       "      <td>28961</td>\n",
       "      <td>70469</td>\n",
       "      <td>0</td>\n",
       "      <td>1/15/2009</td>\n",
       "      <td>ADESA</td>\n",
       "      <td>5</td>\n",
       "      <td>PONTIAC</td>\n",
       "      <td>GRAND AM V6 3.4L V6</td>\n",
       "      <td>SE</td>\n",
       "      <td>SEDAN GT1</td>\n",
       "      <td>GOLD</td>\n",
       "      <td>...</td>\n",
       "      <td>5001.0</td>\n",
       "      <td>4615.0</td>\n",
       "      <td>5901.0</td>\n",
       "      <td>TX</td>\n",
       "      <td>4170.0</td>\n",
       "      <td>0</td>\n",
       "      <td>2412</td>\n",
       "      <td>GRAND AM</td>\n",
       "      <td>NaN</td>\n",
       "      <td>South</td>\n",
       "    </tr>\n",
       "    <tr>\n",
       "      <td>35224</td>\n",
       "      <td>24596</td>\n",
       "      <td>0</td>\n",
       "      <td>6/24/2009</td>\n",
       "      <td>MANHEIM</td>\n",
       "      <td>3</td>\n",
       "      <td>DODGE</td>\n",
       "      <td>STRATUS V6 2.7L V6 M</td>\n",
       "      <td>SXT</td>\n",
       "      <td>COUPE R/T</td>\n",
       "      <td>BLUE</td>\n",
       "      <td>...</td>\n",
       "      <td>6535.0</td>\n",
       "      <td>6565.0</td>\n",
       "      <td>7558.0</td>\n",
       "      <td>FL</td>\n",
       "      <td>6200.0</td>\n",
       "      <td>0</td>\n",
       "      <td>1215</td>\n",
       "      <td>STRATUS</td>\n",
       "      <td>NaN</td>\n",
       "      <td>South</td>\n",
       "    </tr>\n",
       "    <tr>\n",
       "      <td>50661</td>\n",
       "      <td>70464</td>\n",
       "      <td>0</td>\n",
       "      <td>1/15/2009</td>\n",
       "      <td>ADESA</td>\n",
       "      <td>8</td>\n",
       "      <td>CHEVROLET</td>\n",
       "      <td>S10 PICKUP 2WD 4C 2.</td>\n",
       "      <td>BAS</td>\n",
       "      <td>CREW CAB 4.3L LS</td>\n",
       "      <td>BLUE</td>\n",
       "      <td>...</td>\n",
       "      <td>3800.0</td>\n",
       "      <td>3587.0</td>\n",
       "      <td>4604.0</td>\n",
       "      <td>TX</td>\n",
       "      <td>4770.0</td>\n",
       "      <td>0</td>\n",
       "      <td>2322</td>\n",
       "      <td>S10 PICKUP</td>\n",
       "      <td>NaN</td>\n",
       "      <td>South</td>\n",
       "    </tr>\n",
       "  </tbody>\n",
       "</table>\n",
       "<p>5 rows × 31 columns</p>\n",
       "</div>"
      ],
      "text/plain": [
       "       RefId  IsBadBuy  PurchDate  Auction  VehicleAge       Make  \\\n",
       "23019  70466         0  1/15/2009    ADESA           5  CHEVROLET   \n",
       "28280  70482         0  1/15/2009    ADESA           3       FORD   \n",
       "28961  70469         0  1/15/2009    ADESA           5    PONTIAC   \n",
       "35224  24596         0  6/24/2009  MANHEIM           3      DODGE   \n",
       "50661  70464         0  1/15/2009    ADESA           8  CHEVROLET   \n",
       "\n",
       "                      Model Trim          SubModel  Color  ...  \\\n",
       "23019    IMPALA 3.4L V6 SFI  BAS     SEDAN LS 3.5L  WHITE  ...   \n",
       "28280  FREESTAR FWD V6 3.9L   SE    PASSENGER 3.9L  BLACK  ...   \n",
       "28961   GRAND AM V6 3.4L V6   SE         SEDAN GT1   GOLD  ...   \n",
       "35224  STRATUS V6 2.7L V6 M  SXT         COUPE R/T   BLUE  ...   \n",
       "50661  S10 PICKUP 2WD 4C 2.  BAS  CREW CAB 4.3L LS   BLUE  ...   \n",
       "\n",
       "      MMRCurrentAuctionCleanPrice MMRCurrentRetailAveragePrice  \\\n",
       "23019                      5219.0                       4845.0   \n",
       "28280                      7186.0                       6710.0   \n",
       "28961                      5001.0                       4615.0   \n",
       "35224                      6535.0                       6565.0   \n",
       "50661                      3800.0                       3587.0   \n",
       "\n",
       "       MMRCurrentRetailCleanPrice VNST VehBCost IsOnlineSale  WarrantyCost  \\\n",
       "23019                      6137.0   TX   4470.0            0          2152   \n",
       "28280                      8261.0   TX   4970.0            0          1633   \n",
       "28961                      5901.0   TX   4170.0            0          2412   \n",
       "35224                      7558.0   FL   6200.0            0          1215   \n",
       "50661                      4604.0   TX   4770.0            0          2322   \n",
       "\n",
       "       ModelSimple  Doors  USRegion  \n",
       "23019       IMPALA    NaN     South  \n",
       "28280     FREESTAR    NaN     South  \n",
       "28961     GRAND AM    NaN     South  \n",
       "35224      STRATUS    NaN     South  \n",
       "50661   S10 PICKUP    NaN     South  \n",
       "\n",
       "[5 rows x 31 columns]"
      ]
     },
     "execution_count": 111,
     "metadata": {},
     "output_type": "execute_result"
    }
   ],
   "source": [
    "df[df['Transmission'].isnull()]"
   ]
  },
  {
   "cell_type": "markdown",
   "metadata": {},
   "source": [
    "## Correzione dei missing values sugli attributi del prezzo"
   ]
  },
  {
   "cell_type": "markdown",
   "metadata": {},
   "source": [
    "Passiamo ora agli attributi _di prezzo_.\n",
    "\n",
    "La fase di data understanding ha evidenziato che questi attributi oltre che avere i classici missing values presentano anche dei valori anomali: 0 e 1."
   ]
  },
  {
   "cell_type": "code",
   "execution_count": 112,
   "metadata": {},
   "outputs": [
    {
     "data": {
      "text/plain": [
       "MMRAcquisitionAuctionAveragePrice    644\n",
       "MMRAcquisitionAuctionCleanPrice      644\n",
       "MMRAcquisitionRetailAveragePrice     644\n",
       "MMRAcquisitonRetailCleanPrice        644\n",
       "MMRCurrentAuctionAveragePrice        391\n",
       "MMRCurrentAuctionCleanPrice          391\n",
       "MMRCurrentRetailAveragePrice         391\n",
       "MMRCurrentRetailCleanPrice           391\n",
       "VehBCost                               1\n",
       "dtype: int64"
      ]
     },
     "execution_count": 112,
     "metadata": {},
     "output_type": "execute_result"
    }
   ],
   "source": [
    "df[['MMRAcquisitionAuctionAveragePrice', 'MMRAcquisitionAuctionCleanPrice', 'MMRAcquisitionRetailAveragePrice', \n",
    "    'MMRAcquisitonRetailCleanPrice', 'MMRCurrentAuctionAveragePrice', 'MMRCurrentAuctionCleanPrice',\n",
    "    'MMRCurrentRetailAveragePrice', 'MMRCurrentRetailCleanPrice', 'VehBCost']].isin([0,1]).sum()"
   ]
  },
  {
   "cell_type": "code",
   "execution_count": 113,
   "metadata": {},
   "outputs": [],
   "source": [
    "df.loc[df['MMRAcquisitionAuctionAveragePrice']<=1,'MMRAcquisitionAuctionAveragePrice']=np.NaN\n",
    "df.loc[df['MMRAcquisitionAuctionCleanPrice']<=1,'MMRAcquisitionAuctionCleanPrice']=np.NaN\n",
    "df.loc[df['MMRAcquisitionRetailAveragePrice']<=1,'MMRAcquisitionRetailAveragePrice']=np.NaN\n",
    "df.loc[df['MMRAcquisitonRetailCleanPrice']<=1,'MMRAcquisitonRetailCleanPrice']=np.NaN\n",
    "df.loc[df['MMRCurrentAuctionAveragePrice']<=1,'MMRCurrentAuctionAveragePrice']=np.NaN\n",
    "df.loc[df['MMRCurrentAuctionCleanPrice']<=1,'MMRCurrentAuctionCleanPrice']=np.NaN\n",
    "df.loc[df['MMRCurrentRetailAveragePrice']<=1,'MMRCurrentRetailAveragePrice']=np.NaN\n",
    "df.loc[df['MMRCurrentRetailCleanPrice']<=1,'MMRCurrentRetailCleanPrice']=np.NaN"
   ]
  },
  {
   "cell_type": "code",
   "execution_count": 114,
   "metadata": {},
   "outputs": [
    {
     "data": {
      "text/plain": [
       "MMRAcquisitionAuctionAveragePrice    657\n",
       "MMRAcquisitionAuctionCleanPrice      657\n",
       "MMRAcquisitionRetailAveragePrice     657\n",
       "MMRAcquisitonRetailCleanPrice        657\n",
       "MMRCurrentAuctionAveragePrice        635\n",
       "MMRCurrentAuctionCleanPrice          635\n",
       "MMRCurrentRetailAveragePrice         635\n",
       "MMRCurrentRetailCleanPrice           635\n",
       "VehBCost                               0\n",
       "dtype: int64"
      ]
     },
     "execution_count": 114,
     "metadata": {},
     "output_type": "execute_result"
    }
   ],
   "source": [
    "df[['MMRAcquisitionAuctionAveragePrice', 'MMRAcquisitionAuctionCleanPrice', 'MMRAcquisitionRetailAveragePrice', \n",
    "    'MMRAcquisitonRetailCleanPrice', 'MMRCurrentAuctionAveragePrice', 'MMRCurrentAuctionCleanPrice',\n",
    "    'MMRCurrentRetailAveragePrice', 'MMRCurrentRetailCleanPrice', 'VehBCost']].isnull().sum()"
   ]
  },
  {
   "cell_type": "code",
   "execution_count": 115,
   "metadata": {},
   "outputs": [],
   "source": [
    "df_copy = df.copy(deep=True) # salvo per la regressione"
   ]
  },
  {
   "cell_type": "code",
   "execution_count": 116,
   "metadata": {},
   "outputs": [],
   "source": [
    "prices = ['MMRAcquisitionAuctionAveragePrice', 'MMRAcquisitionAuctionCleanPrice', \n",
    "          'MMRAcquisitionRetailAveragePrice', 'MMRAcquisitonRetailCleanPrice', \n",
    "          'MMRCurrentAuctionAveragePrice', 'MMRCurrentAuctionCleanPrice', \n",
    "          'MMRCurrentRetailAveragePrice', 'MMRCurrentRetailCleanPrice']\n",
    "\n",
    "stats_with_missing = df[prices].describe()\n",
    "\n",
    "for attr in prices:\n",
    "    df[attr] = df.groupby(\"ModelSimple\")[attr].transform(lambda x: x.fillna(x.mean()))\n",
    "    \n",
    "stats_wout_missing = df[prices].describe()"
   ]
  },
  {
   "cell_type": "code",
   "execution_count": 117,
   "metadata": {},
   "outputs": [
    {
     "data": {
      "text/html": [
       "<div>\n",
       "<style scoped>\n",
       "    .dataframe tbody tr th:only-of-type {\n",
       "        vertical-align: middle;\n",
       "    }\n",
       "\n",
       "    .dataframe tbody tr th {\n",
       "        vertical-align: top;\n",
       "    }\n",
       "\n",
       "    .dataframe thead th {\n",
       "        text-align: right;\n",
       "    }\n",
       "</style>\n",
       "<table border=\"1\" class=\"dataframe\">\n",
       "  <thead>\n",
       "    <tr style=\"text-align: right;\">\n",
       "      <th></th>\n",
       "      <th>MMRAcquisitionAuctionAveragePrice</th>\n",
       "      <th>MMRAcquisitionAuctionCleanPrice</th>\n",
       "      <th>MMRAcquisitionRetailAveragePrice</th>\n",
       "      <th>MMRAcquisitonRetailCleanPrice</th>\n",
       "      <th>MMRCurrentAuctionAveragePrice</th>\n",
       "      <th>MMRCurrentAuctionCleanPrice</th>\n",
       "      <th>MMRCurrentRetailAveragePrice</th>\n",
       "      <th>MMRCurrentRetailCleanPrice</th>\n",
       "    </tr>\n",
       "  </thead>\n",
       "  <tbody>\n",
       "    <tr>\n",
       "      <td>count</td>\n",
       "      <td>57208.000000</td>\n",
       "      <td>57208.000000</td>\n",
       "      <td>57208.000000</td>\n",
       "      <td>57208.000000</td>\n",
       "      <td>57230.000000</td>\n",
       "      <td>57230.000000</td>\n",
       "      <td>57230.000000</td>\n",
       "      <td>57230.000000</td>\n",
       "    </tr>\n",
       "    <tr>\n",
       "      <td>mean</td>\n",
       "      <td>6189.401185</td>\n",
       "      <td>7446.953293</td>\n",
       "      <td>8585.069081</td>\n",
       "      <td>9953.504335</td>\n",
       "      <td>6165.924428</td>\n",
       "      <td>7431.539752</td>\n",
       "      <td>8828.419483</td>\n",
       "      <td>10205.639053</td>\n",
       "    </tr>\n",
       "    <tr>\n",
       "      <td>std</td>\n",
       "      <td>2373.573222</td>\n",
       "      <td>2606.661955</td>\n",
       "      <td>3029.534747</td>\n",
       "      <td>3223.838988</td>\n",
       "      <td>2379.114661</td>\n",
       "      <td>2612.967638</td>\n",
       "      <td>3004.094373</td>\n",
       "      <td>3200.720476</td>\n",
       "    </tr>\n",
       "    <tr>\n",
       "      <td>min</td>\n",
       "      <td>884.000000</td>\n",
       "      <td>1076.000000</td>\n",
       "      <td>1455.000000</td>\n",
       "      <td>1662.000000</td>\n",
       "      <td>369.000000</td>\n",
       "      <td>494.000000</td>\n",
       "      <td>899.000000</td>\n",
       "      <td>1034.000000</td>\n",
       "    </tr>\n",
       "    <tr>\n",
       "      <td>25%</td>\n",
       "      <td>4327.000000</td>\n",
       "      <td>5467.000000</td>\n",
       "      <td>6358.000000</td>\n",
       "      <td>7550.000000</td>\n",
       "      <td>4303.000000</td>\n",
       "      <td>5447.000000</td>\n",
       "      <td>6576.000000</td>\n",
       "      <td>7829.250000</td>\n",
       "    </tr>\n",
       "    <tr>\n",
       "      <td>50%</td>\n",
       "      <td>6124.000000</td>\n",
       "      <td>7340.000000</td>\n",
       "      <td>8481.000000</td>\n",
       "      <td>9837.000000</td>\n",
       "      <td>6074.000000</td>\n",
       "      <td>7324.000000</td>\n",
       "      <td>8756.000000</td>\n",
       "      <td>10118.000000</td>\n",
       "    </tr>\n",
       "    <tr>\n",
       "      <td>75%</td>\n",
       "      <td>7786.000000</td>\n",
       "      <td>9042.000000</td>\n",
       "      <td>10677.000000</td>\n",
       "      <td>12111.000000</td>\n",
       "      <td>7749.000000</td>\n",
       "      <td>9025.000000</td>\n",
       "      <td>10922.000000</td>\n",
       "      <td>12321.000000</td>\n",
       "    </tr>\n",
       "    <tr>\n",
       "      <td>max</td>\n",
       "      <td>35722.000000</td>\n",
       "      <td>36859.000000</td>\n",
       "      <td>39080.000000</td>\n",
       "      <td>40308.000000</td>\n",
       "      <td>35722.000000</td>\n",
       "      <td>36859.000000</td>\n",
       "      <td>39080.000000</td>\n",
       "      <td>40308.000000</td>\n",
       "    </tr>\n",
       "  </tbody>\n",
       "</table>\n",
       "</div>"
      ],
      "text/plain": [
       "       MMRAcquisitionAuctionAveragePrice  MMRAcquisitionAuctionCleanPrice  \\\n",
       "count                       57208.000000                     57208.000000   \n",
       "mean                         6189.401185                      7446.953293   \n",
       "std                          2373.573222                      2606.661955   \n",
       "min                           884.000000                      1076.000000   \n",
       "25%                          4327.000000                      5467.000000   \n",
       "50%                          6124.000000                      7340.000000   \n",
       "75%                          7786.000000                      9042.000000   \n",
       "max                         35722.000000                     36859.000000   \n",
       "\n",
       "       MMRAcquisitionRetailAveragePrice  MMRAcquisitonRetailCleanPrice  \\\n",
       "count                      57208.000000                   57208.000000   \n",
       "mean                        8585.069081                    9953.504335   \n",
       "std                         3029.534747                    3223.838988   \n",
       "min                         1455.000000                    1662.000000   \n",
       "25%                         6358.000000                    7550.000000   \n",
       "50%                         8481.000000                    9837.000000   \n",
       "75%                        10677.000000                   12111.000000   \n",
       "max                        39080.000000                   40308.000000   \n",
       "\n",
       "       MMRCurrentAuctionAveragePrice  MMRCurrentAuctionCleanPrice  \\\n",
       "count                   57230.000000                 57230.000000   \n",
       "mean                     6165.924428                  7431.539752   \n",
       "std                      2379.114661                  2612.967638   \n",
       "min                       369.000000                   494.000000   \n",
       "25%                      4303.000000                  5447.000000   \n",
       "50%                      6074.000000                  7324.000000   \n",
       "75%                      7749.000000                  9025.000000   \n",
       "max                     35722.000000                 36859.000000   \n",
       "\n",
       "       MMRCurrentRetailAveragePrice  MMRCurrentRetailCleanPrice  \n",
       "count                  57230.000000                57230.000000  \n",
       "mean                    8828.419483                10205.639053  \n",
       "std                     3004.094373                 3200.720476  \n",
       "min                      899.000000                 1034.000000  \n",
       "25%                     6576.000000                 7829.250000  \n",
       "50%                     8756.000000                10118.000000  \n",
       "75%                    10922.000000                12321.000000  \n",
       "max                    39080.000000                40308.000000  "
      ]
     },
     "execution_count": 117,
     "metadata": {},
     "output_type": "execute_result"
    }
   ],
   "source": [
    "stats_with_missing"
   ]
  },
  {
   "cell_type": "code",
   "execution_count": 118,
   "metadata": {},
   "outputs": [
    {
     "data": {
      "text/html": [
       "<div>\n",
       "<style scoped>\n",
       "    .dataframe tbody tr th:only-of-type {\n",
       "        vertical-align: middle;\n",
       "    }\n",
       "\n",
       "    .dataframe tbody tr th {\n",
       "        vertical-align: top;\n",
       "    }\n",
       "\n",
       "    .dataframe thead th {\n",
       "        text-align: right;\n",
       "    }\n",
       "</style>\n",
       "<table border=\"1\" class=\"dataframe\">\n",
       "  <thead>\n",
       "    <tr style=\"text-align: right;\">\n",
       "      <th></th>\n",
       "      <th>MMRAcquisitionAuctionAveragePrice</th>\n",
       "      <th>MMRAcquisitionAuctionCleanPrice</th>\n",
       "      <th>MMRAcquisitionRetailAveragePrice</th>\n",
       "      <th>MMRAcquisitonRetailCleanPrice</th>\n",
       "      <th>MMRCurrentAuctionAveragePrice</th>\n",
       "      <th>MMRCurrentAuctionCleanPrice</th>\n",
       "      <th>MMRCurrentRetailAveragePrice</th>\n",
       "      <th>MMRCurrentRetailCleanPrice</th>\n",
       "    </tr>\n",
       "  </thead>\n",
       "  <tbody>\n",
       "    <tr>\n",
       "      <td>count</td>\n",
       "      <td>57863.000000</td>\n",
       "      <td>57863.000000</td>\n",
       "      <td>57863.000000</td>\n",
       "      <td>57863.000000</td>\n",
       "      <td>57864.000000</td>\n",
       "      <td>57864.000000</td>\n",
       "      <td>57864.000000</td>\n",
       "      <td>57864.000000</td>\n",
       "    </tr>\n",
       "    <tr>\n",
       "      <td>mean</td>\n",
       "      <td>6192.271805</td>\n",
       "      <td>7450.876067</td>\n",
       "      <td>8589.023204</td>\n",
       "      <td>9958.485366</td>\n",
       "      <td>6165.931935</td>\n",
       "      <td>7432.461467</td>\n",
       "      <td>8829.121182</td>\n",
       "      <td>10207.198019</td>\n",
       "    </tr>\n",
       "    <tr>\n",
       "      <td>std</td>\n",
       "      <td>2366.392359</td>\n",
       "      <td>2599.232726</td>\n",
       "      <td>3018.799073</td>\n",
       "      <td>3212.966635</td>\n",
       "      <td>2372.166893</td>\n",
       "      <td>2605.711988</td>\n",
       "      <td>2994.515991</td>\n",
       "      <td>3190.954997</td>\n",
       "    </tr>\n",
       "    <tr>\n",
       "      <td>min</td>\n",
       "      <td>884.000000</td>\n",
       "      <td>1076.000000</td>\n",
       "      <td>1455.000000</td>\n",
       "      <td>1662.000000</td>\n",
       "      <td>369.000000</td>\n",
       "      <td>494.000000</td>\n",
       "      <td>899.000000</td>\n",
       "      <td>1034.000000</td>\n",
       "    </tr>\n",
       "    <tr>\n",
       "      <td>25%</td>\n",
       "      <td>4342.000000</td>\n",
       "      <td>5485.000000</td>\n",
       "      <td>6368.500000</td>\n",
       "      <td>7571.000000</td>\n",
       "      <td>4311.000000</td>\n",
       "      <td>5462.000000</td>\n",
       "      <td>6587.000000</td>\n",
       "      <td>7840.750000</td>\n",
       "    </tr>\n",
       "    <tr>\n",
       "      <td>50%</td>\n",
       "      <td>6129.000000</td>\n",
       "      <td>7353.000000</td>\n",
       "      <td>8488.000000</td>\n",
       "      <td>9849.000000</td>\n",
       "      <td>6078.000000</td>\n",
       "      <td>7330.442122</td>\n",
       "      <td>8756.000000</td>\n",
       "      <td>10127.000000</td>\n",
       "    </tr>\n",
       "    <tr>\n",
       "      <td>75%</td>\n",
       "      <td>7782.000000</td>\n",
       "      <td>9044.000000</td>\n",
       "      <td>10665.500000</td>\n",
       "      <td>12106.500000</td>\n",
       "      <td>7746.000000</td>\n",
       "      <td>9025.000000</td>\n",
       "      <td>10918.000000</td>\n",
       "      <td>12316.000000</td>\n",
       "    </tr>\n",
       "    <tr>\n",
       "      <td>max</td>\n",
       "      <td>35722.000000</td>\n",
       "      <td>36859.000000</td>\n",
       "      <td>39080.000000</td>\n",
       "      <td>40308.000000</td>\n",
       "      <td>35722.000000</td>\n",
       "      <td>36859.000000</td>\n",
       "      <td>39080.000000</td>\n",
       "      <td>40308.000000</td>\n",
       "    </tr>\n",
       "  </tbody>\n",
       "</table>\n",
       "</div>"
      ],
      "text/plain": [
       "       MMRAcquisitionAuctionAveragePrice  MMRAcquisitionAuctionCleanPrice  \\\n",
       "count                       57863.000000                     57863.000000   \n",
       "mean                         6192.271805                      7450.876067   \n",
       "std                          2366.392359                      2599.232726   \n",
       "min                           884.000000                      1076.000000   \n",
       "25%                          4342.000000                      5485.000000   \n",
       "50%                          6129.000000                      7353.000000   \n",
       "75%                          7782.000000                      9044.000000   \n",
       "max                         35722.000000                     36859.000000   \n",
       "\n",
       "       MMRAcquisitionRetailAveragePrice  MMRAcquisitonRetailCleanPrice  \\\n",
       "count                      57863.000000                   57863.000000   \n",
       "mean                        8589.023204                    9958.485366   \n",
       "std                         3018.799073                    3212.966635   \n",
       "min                         1455.000000                    1662.000000   \n",
       "25%                         6368.500000                    7571.000000   \n",
       "50%                         8488.000000                    9849.000000   \n",
       "75%                        10665.500000                   12106.500000   \n",
       "max                        39080.000000                   40308.000000   \n",
       "\n",
       "       MMRCurrentAuctionAveragePrice  MMRCurrentAuctionCleanPrice  \\\n",
       "count                   57864.000000                 57864.000000   \n",
       "mean                     6165.931935                  7432.461467   \n",
       "std                      2372.166893                  2605.711988   \n",
       "min                       369.000000                   494.000000   \n",
       "25%                      4311.000000                  5462.000000   \n",
       "50%                      6078.000000                  7330.442122   \n",
       "75%                      7746.000000                  9025.000000   \n",
       "max                     35722.000000                 36859.000000   \n",
       "\n",
       "       MMRCurrentRetailAveragePrice  MMRCurrentRetailCleanPrice  \n",
       "count                  57864.000000                57864.000000  \n",
       "mean                    8829.121182                10207.198019  \n",
       "std                     2994.515991                 3190.954997  \n",
       "min                      899.000000                 1034.000000  \n",
       "25%                     6587.000000                 7840.750000  \n",
       "50%                     8756.000000                10127.000000  \n",
       "75%                    10918.000000                12316.000000  \n",
       "max                    39080.000000                40308.000000  "
      ]
     },
     "execution_count": 118,
     "metadata": {},
     "output_type": "execute_result"
    }
   ],
   "source": [
    "stats_wout_missing"
   ]
  },
  {
   "cell_type": "code",
   "execution_count": 119,
   "metadata": {},
   "outputs": [
    {
     "data": {
      "image/png": "[encoded data removed]",
      "text/plain": [
       "<Figure size 1080x1080 with 8 Axes>"
      ]
     },
     "metadata": {
      "needs_background": "light"
     },
     "output_type": "display_data"
    }
   ],
   "source": [
    "\"\"\"\n",
    "Considerazione su questi grafici: potete notare con df['NOME_ATTR'].value_counts() che ci sono molti valori a 0 \n",
    "per ognuno degli attributi qua sotto, pensavo che forse sarebbero da considerarsi nulli e quindi eliminarli oppure \n",
    "sostituirli con la media calcolata escludendoli.\n",
    "\"\"\"\n",
    "\n",
    "# Set up a grid of plots\n",
    "fig = plt.figure(figsize=(15, 15)) \n",
    "fig_dims = (4, 2)\n",
    "\n",
    "# Acquisition price for this vehicle in average condition at time of purchase\n",
    "plt.subplot2grid(fig_dims, (0, 0))\n",
    "df['MMRAcquisitionAuctionAveragePrice'].plot(bins=30, kind='hist', title='MMRAcquisitionAuctionAveragePrice')\n",
    "\n",
    "# Acquisition price for this vehicle in the above Average condition at time of purchase\n",
    "plt.subplot2grid(fig_dims, (0, 1))\n",
    "df['MMRAcquisitionAuctionCleanPrice'].plot(kind='hist', bins=30, title='MMRAcquisitionAuctionCleanPrice')\n",
    "\n",
    "# Acquisition price for this vehicle in the retail market in average condition at time of purchase\n",
    "plt.subplot2grid(fig_dims, (1, 0))\n",
    "df['MMRAcquisitionRetailAveragePrice'].plot(kind='hist', bins=30, \n",
    "                                                           title='MMRAcquisitionRetailAveragePrice')\n",
    "plt.xticks(rotation=0)\n",
    "\n",
    "# Acquisition price for this vehicle in the retail market in above average condition at time of purchase\n",
    "plt.subplot2grid(fig_dims, (1, 1))\n",
    "df['MMRAcquisitonRetailCleanPrice'].plot(kind='hist', bins=30, \n",
    "                                                        title='MMRAcquisitonRetailCleanPrice')\n",
    "\n",
    "# Acquisition price for this vehicle in average condition as of current day\n",
    "plt.subplot2grid(fig_dims, (2, 0))\n",
    "df['MMRCurrentAuctionAveragePrice'].plot(kind='hist', bins=30, \n",
    "                                                        title='MMRCurrentAuctionAveragePrice')\n",
    "\n",
    "# Acquisition price for this vehicle in the above condition as of current day\n",
    "plt.subplot2grid(fig_dims, (2, 1))\n",
    "df['MMRCurrentAuctionCleanPrice'].plot(kind='hist', bins=30, \n",
    "                                                        title='MMRCurrentAuctionCleanPrice')\n",
    "\n",
    "# Acquisition price for this vehicle in the retail market in average condition as of current day\n",
    "plt.subplot2grid(fig_dims, (3, 0))\n",
    "df['MMRCurrentRetailAveragePrice'].plot(kind='hist', bins=30, \n",
    "                                                        title='MMRCurrentRetailAveragePrice')\n",
    "\n",
    "# Acquisition price for this vehicle in the retail market in above average condition as of current day\n",
    "plt.subplot2grid(fig_dims, (3, 1))\n",
    "df['MMRCurrentRetailCleanPrice'].plot(kind='hist', bins=30, \n",
    "                                                        title='MMRCurrentRetailCleanPrice')\n",
    "\n",
    "plt.savefig('./plots/MMRs_mean_filled.png')\n",
    "plt.show()"
   ]
  },
  {
   "cell_type": "markdown",
   "metadata": {},
   "source": [
    "Decidiamo di eliminare i restanti missing values."
   ]
  },
  {
   "cell_type": "code",
   "execution_count": 120,
   "metadata": {},
   "outputs": [],
   "source": [
    "df.dropna(inplace=True, subset=prices)"
   ]
  },
  {
   "cell_type": "code",
   "execution_count": 121,
   "metadata": {},
   "outputs": [
    {
     "data": {
      "text/plain": [
       "RefId                                   0\n",
       "IsBadBuy                                0\n",
       "PurchDate                               0\n",
       "Auction                                 0\n",
       "VehicleAge                              0\n",
       "Make                                    0\n",
       "Model                                   0\n",
       "Trim                                    0\n",
       "SubModel                                0\n",
       "Color                                   0\n",
       "Transmission                            5\n",
       "WheelType                               0\n",
       "VehOdo                                  0\n",
       "Nationality                             0\n",
       "Size                                    0\n",
       "TopThreeAmericanName                    0\n",
       "MMRAcquisitionAuctionAveragePrice       0\n",
       "MMRAcquisitionAuctionCleanPrice         0\n",
       "MMRAcquisitionRetailAveragePrice        0\n",
       "MMRAcquisitonRetailCleanPrice           0\n",
       "MMRCurrentAuctionAveragePrice           0\n",
       "MMRCurrentAuctionCleanPrice             0\n",
       "MMRCurrentRetailAveragePrice            0\n",
       "MMRCurrentRetailCleanPrice              0\n",
       "VNST                                    0\n",
       "VehBCost                                0\n",
       "IsOnlineSale                            0\n",
       "WarrantyCost                            0\n",
       "ModelSimple                             0\n",
       "Doors                                7835\n",
       "USRegion                                0\n",
       "dtype: int64"
      ]
     },
     "execution_count": 121,
     "metadata": {},
     "output_type": "execute_result"
    }
   ],
   "source": [
    "df.isnull().sum()"
   ]
  },
  {
   "cell_type": "code",
   "execution_count": 122,
   "metadata": {},
   "outputs": [
    {
     "data": {
      "text/plain": [
       "4D    47386\n",
       "2D     2642\n",
       "Name: Doors, dtype: int64"
      ]
     },
     "execution_count": 122,
     "metadata": {},
     "output_type": "execute_result"
    }
   ],
   "source": [
    "df.Doors.value_counts()"
   ]
  },
  {
   "cell_type": "code",
   "execution_count": null,
   "metadata": {},
   "outputs": [],
   "source": []
  },
  {
   "cell_type": "code",
   "execution_count": 125,
   "metadata": {},
   "outputs": [],
   "source": [
    "fillna_group_distribution('SubModel', 'Doors')\n",
    "fillna_group_distribution('ModelSimple', 'Doors')\n",
    "fillna_group_distribution('Trim', 'Doors')"
   ]
  },
  {
   "cell_type": "code",
   "execution_count": 126,
   "metadata": {},
   "outputs": [
    {
     "data": {
      "text/plain": [
       "RefId                                  0\n",
       "IsBadBuy                               0\n",
       "PurchDate                              0\n",
       "Auction                                0\n",
       "VehicleAge                             0\n",
       "Make                                   0\n",
       "Model                                  0\n",
       "Trim                                   0\n",
       "SubModel                               0\n",
       "Color                                  0\n",
       "Transmission                           5\n",
       "WheelType                              0\n",
       "VehOdo                                 0\n",
       "Nationality                            0\n",
       "Size                                   0\n",
       "TopThreeAmericanName                   0\n",
       "MMRAcquisitionAuctionAveragePrice      0\n",
       "MMRAcquisitionAuctionCleanPrice        0\n",
       "MMRAcquisitionRetailAveragePrice       0\n",
       "MMRAcquisitonRetailCleanPrice          0\n",
       "MMRCurrentAuctionAveragePrice          0\n",
       "MMRCurrentAuctionCleanPrice            0\n",
       "MMRCurrentRetailAveragePrice           0\n",
       "MMRCurrentRetailCleanPrice             0\n",
       "VNST                                   0\n",
       "VehBCost                               0\n",
       "IsOnlineSale                           0\n",
       "WarrantyCost                           0\n",
       "ModelSimple                            0\n",
       "Doors                                110\n",
       "USRegion                               0\n",
       "dtype: int64"
      ]
     },
     "execution_count": 126,
     "metadata": {},
     "output_type": "execute_result"
    }
   ],
   "source": [
    "df.isnull().sum()"
   ]
  },
  {
   "cell_type": "code",
   "execution_count": 127,
   "metadata": {},
   "outputs": [],
   "source": [
    "df.dropna(inplace=True)"
   ]
  },
  {
   "cell_type": "code",
   "execution_count": 128,
   "metadata": {},
   "outputs": [],
   "source": [
    "df.to_csv(index=False, path_or_buf='./data/training_ready_no_regression.csv')"
   ]
  },
  {
   "cell_type": "markdown",
   "metadata": {
    "pycharm": {
     "name": "#%% md\n"
    }
   },
   "source": [
    "###### Multivariate Linear Regressor"
   ]
  },
  {
   "cell_type": "code",
   "execution_count": 55,
   "metadata": {},
   "outputs": [],
   "source": [
    "import pandas as pd  \n",
    "import numpy as np  \n",
    "import matplotlib.pyplot as plt  \n",
    "import seaborn as seabornInstance \n",
    "from sklearn.model_selection import train_test_split \n",
    "from sklearn.linear_model import LinearRegression\n",
    "from sklearn import metrics\n",
    "%matplotlib inline"
   ]
  },
  {
   "cell_type": "code",
   "execution_count": 56,
   "metadata": {},
   "outputs": [
    {
     "data": {
      "text/plain": [
       "RefId                                   0\n",
       "IsBadBuy                                0\n",
       "PurchDate                               0\n",
       "Auction                                 0\n",
       "VehicleAge                              0\n",
       "Make                                    0\n",
       "Model                                   0\n",
       "Trim                                    0\n",
       "SubModel                                0\n",
       "Color                                   0\n",
       "Transmission                            0\n",
       "WheelType                               0\n",
       "VehOdo                                  0\n",
       "Nationality                             0\n",
       "Size                                    0\n",
       "TopThreeAmericanName                    0\n",
       "MMRAcquisitionAuctionAveragePrice     657\n",
       "MMRAcquisitionAuctionCleanPrice       657\n",
       "MMRAcquisitionRetailAveragePrice      657\n",
       "MMRAcquisitonRetailCleanPrice         657\n",
       "MMRCurrentAuctionAveragePrice         635\n",
       "MMRCurrentAuctionCleanPrice           635\n",
       "MMRCurrentRetailAveragePrice          635\n",
       "MMRCurrentRetailCleanPrice            635\n",
       "VNST                                    0\n",
       "VehBCost                                0\n",
       "IsOnlineSale                            0\n",
       "WarrantyCost                            0\n",
       "ModelSimple                             0\n",
       "Doors                                7836\n",
       "USRegion                                0\n",
       "dtype: int64"
      ]
     },
     "execution_count": 56,
     "metadata": {},
     "output_type": "execute_result"
    }
   ],
   "source": [
    "df_copy.isnull().sum()"
   ]
  },
  {
   "cell_type": "code",
   "execution_count": 57,
   "metadata": {
    "pycharm": {
     "name": "#%%\n"
    }
   },
   "outputs": [
    {
     "data": {
      "text/plain": [
       "RefId                                0\n",
       "IsBadBuy                             0\n",
       "PurchDate                            0\n",
       "Auction                              0\n",
       "VehicleAge                           0\n",
       "Make                                 0\n",
       "Model                                0\n",
       "Trim                                 0\n",
       "SubModel                             0\n",
       "Color                                0\n",
       "Transmission                         0\n",
       "WheelType                            0\n",
       "VehOdo                               0\n",
       "Nationality                          0\n",
       "Size                                 0\n",
       "TopThreeAmericanName                 0\n",
       "MMRAcquisitionAuctionAveragePrice    0\n",
       "MMRAcquisitionAuctionCleanPrice      0\n",
       "MMRAcquisitionRetailAveragePrice     0\n",
       "MMRAcquisitonRetailCleanPrice        0\n",
       "MMRCurrentAuctionAveragePrice        0\n",
       "MMRCurrentAuctionCleanPrice          0\n",
       "MMRCurrentRetailAveragePrice         0\n",
       "MMRCurrentRetailCleanPrice           0\n",
       "VNST                                 0\n",
       "VehBCost                             0\n",
       "IsOnlineSale                         0\n",
       "WarrantyCost                         0\n",
       "ModelSimple                          0\n",
       "Doors                                0\n",
       "USRegion                             0\n",
       "dtype: int64"
      ]
     },
     "execution_count": 57,
     "metadata": {},
     "output_type": "execute_result"
    }
   ],
   "source": [
    "df_full = df_copy.copy().dropna()\n",
    "df_full.isnull().sum()"
   ]
  },
  {
   "cell_type": "code",
   "execution_count": 58,
   "metadata": {},
   "outputs": [
    {
     "data": {
      "image/png": "[encoded data removed]",
      "text/plain": [
       "<Figure size 432x288 with 1 Axes>"
      ]
     },
     "metadata": {
      "needs_background": "light"
     },
     "output_type": "display_data"
    }
   ],
   "source": [
    "att = 'MMRAcquisitionAuctionAveragePrice'\n",
    "df_full.plot.scatter(x='VehBCost', y=att, style='o')\n",
    "plt.title('VehBCost vs '+att)  \n",
    "plt.xlabel('VehBCost')  \n",
    "plt.ylabel(att)  \n",
    "plt.show()"
   ]
  },
  {
   "cell_type": "code",
   "execution_count": 59,
   "metadata": {
    "pycharm": {
     "name": "#%%\n"
    }
   },
   "outputs": [
    {
     "data": {
      "image/png": "[encoded data removed]",
      "text/plain": [
       "<Figure size 432x288 with 1 Axes>"
      ]
     },
     "metadata": {
      "needs_background": "light"
     },
     "output_type": "display_data"
    }
   ],
   "source": [
    "df_full.plot.scatter(x='VehOdo', y=att, style='o')\n",
    "plt.title('VehOdo vs '+att)  \n",
    "plt.xlabel('VehOdo')  \n",
    "plt.ylabel(att)  \n",
    "plt.show()"
   ]
  },
  {
   "cell_type": "code",
   "execution_count": 60,
   "metadata": {},
   "outputs": [
    {
     "data": {
      "text/plain": [
       "<matplotlib.axes._subplots.AxesSubplot at 0x7f7450f29850>"
      ]
     },
     "execution_count": 60,
     "metadata": {},
     "output_type": "execute_result"
    },
    {
     "data": {
      "image/png": "[encoded data removed]",
      "text/plain": [
       "<Figure size 1080x720 with 1 Axes>"
      ]
     },
     "metadata": {
      "needs_background": "light"
     },
     "output_type": "display_data"
    }
   ],
   "source": [
    "plt.figure(figsize=(15,10))\n",
    "plt.tight_layout()\n",
    "seabornInstance.distplot(df_full[att])"
   ]
  },
  {
   "cell_type": "code",
   "execution_count": 61,
   "metadata": {},
   "outputs": [],
   "source": [
    "useful = ['VehicleAge','VehOdo', 'VehBCost', 'WarrantyCost']\n",
    "X = df_full[useful].values\n",
    "y = df_full[att].values"
   ]
  },
  {
   "cell_type": "code",
   "execution_count": 62,
   "metadata": {
    "pycharm": {
     "name": "#%%\n"
    }
   },
   "outputs": [],
   "source": [
    "X_train, X_test, y_train, y_test = train_test_split(X, y, test_size=0.2, random_state=0)"
   ]
  },
  {
   "cell_type": "code",
   "execution_count": 63,
   "metadata": {
    "pycharm": {
     "name": "#%%\n"
    }
   },
   "outputs": [
    {
     "data": {
      "text/plain": [
       "LinearRegression(copy_X=True, fit_intercept=True, n_jobs=None, normalize=False)"
      ]
     },
     "execution_count": 63,
     "metadata": {},
     "output_type": "execute_result"
    }
   ],
   "source": [
    "regressor = LinearRegression()  \n",
    "regressor.fit(X_train, y_train)"
   ]
  },
  {
   "cell_type": "code",
   "execution_count": 64,
   "metadata": {
    "pycharm": {
     "name": "#%%\n"
    }
   },
   "outputs": [],
   "source": [
    "#coeff_df = pd.DataFrame(regressor.coef_, X.columns, columns=['Coefficient'])  \n",
    "#coeff_df"
   ]
  },
  {
   "cell_type": "code",
   "execution_count": 65,
   "metadata": {
    "pycharm": {
     "name": "#%%\n"
    }
   },
   "outputs": [],
   "source": [
    "y_pred = regressor.predict(X_test)"
   ]
  },
  {
   "cell_type": "code",
   "execution_count": 66,
   "metadata": {
    "pycharm": {
     "name": "#%%\n"
    }
   },
   "outputs": [
    {
     "data": {
      "text/html": [
       "<div>\n",
       "<style scoped>\n",
       "    .dataframe tbody tr th:only-of-type {\n",
       "        vertical-align: middle;\n",
       "    }\n",
       "\n",
       "    .dataframe tbody tr th {\n",
       "        vertical-align: top;\n",
       "    }\n",
       "\n",
       "    .dataframe thead th {\n",
       "        text-align: right;\n",
       "    }\n",
       "</style>\n",
       "<table border=\"1\" class=\"dataframe\">\n",
       "  <thead>\n",
       "    <tr style=\"text-align: right;\">\n",
       "      <th></th>\n",
       "      <th>Actual</th>\n",
       "      <th>Predicted</th>\n",
       "    </tr>\n",
       "  </thead>\n",
       "  <tbody>\n",
       "    <tr>\n",
       "      <td>0</td>\n",
       "      <td>5807.0</td>\n",
       "      <td>5549.708184</td>\n",
       "    </tr>\n",
       "    <tr>\n",
       "      <td>1</td>\n",
       "      <td>2391.0</td>\n",
       "      <td>3244.474188</td>\n",
       "    </tr>\n",
       "    <tr>\n",
       "      <td>2</td>\n",
       "      <td>4798.0</td>\n",
       "      <td>4793.604327</td>\n",
       "    </tr>\n",
       "    <tr>\n",
       "      <td>3</td>\n",
       "      <td>7270.0</td>\n",
       "      <td>7108.148793</td>\n",
       "    </tr>\n",
       "    <tr>\n",
       "      <td>4</td>\n",
       "      <td>9555.0</td>\n",
       "      <td>9319.175226</td>\n",
       "    </tr>\n",
       "    <tr>\n",
       "      <td>5</td>\n",
       "      <td>5632.0</td>\n",
       "      <td>6049.932027</td>\n",
       "    </tr>\n",
       "    <tr>\n",
       "      <td>6</td>\n",
       "      <td>5727.0</td>\n",
       "      <td>6592.676537</td>\n",
       "    </tr>\n",
       "    <tr>\n",
       "      <td>7</td>\n",
       "      <td>6769.0</td>\n",
       "      <td>5660.162631</td>\n",
       "    </tr>\n",
       "    <tr>\n",
       "      <td>8</td>\n",
       "      <td>7975.0</td>\n",
       "      <td>7766.877182</td>\n",
       "    </tr>\n",
       "    <tr>\n",
       "      <td>9</td>\n",
       "      <td>16472.0</td>\n",
       "      <td>10407.654510</td>\n",
       "    </tr>\n",
       "    <tr>\n",
       "      <td>10</td>\n",
       "      <td>5645.0</td>\n",
       "      <td>6061.617299</td>\n",
       "    </tr>\n",
       "    <tr>\n",
       "      <td>11</td>\n",
       "      <td>5739.0</td>\n",
       "      <td>6509.785417</td>\n",
       "    </tr>\n",
       "    <tr>\n",
       "      <td>12</td>\n",
       "      <td>8143.0</td>\n",
       "      <td>8840.868306</td>\n",
       "    </tr>\n",
       "    <tr>\n",
       "      <td>13</td>\n",
       "      <td>7257.0</td>\n",
       "      <td>8066.531235</td>\n",
       "    </tr>\n",
       "    <tr>\n",
       "      <td>14</td>\n",
       "      <td>6199.0</td>\n",
       "      <td>9270.652662</td>\n",
       "    </tr>\n",
       "    <tr>\n",
       "      <td>15</td>\n",
       "      <td>7628.0</td>\n",
       "      <td>8231.896530</td>\n",
       "    </tr>\n",
       "    <tr>\n",
       "      <td>16</td>\n",
       "      <td>7924.0</td>\n",
       "      <td>6310.470124</td>\n",
       "    </tr>\n",
       "    <tr>\n",
       "      <td>17</td>\n",
       "      <td>5013.0</td>\n",
       "      <td>5422.468101</td>\n",
       "    </tr>\n",
       "    <tr>\n",
       "      <td>18</td>\n",
       "      <td>5122.0</td>\n",
       "      <td>5532.536243</td>\n",
       "    </tr>\n",
       "    <tr>\n",
       "      <td>19</td>\n",
       "      <td>3783.0</td>\n",
       "      <td>3749.706471</td>\n",
       "    </tr>\n",
       "    <tr>\n",
       "      <td>20</td>\n",
       "      <td>2859.0</td>\n",
       "      <td>3336.719292</td>\n",
       "    </tr>\n",
       "    <tr>\n",
       "      <td>21</td>\n",
       "      <td>6897.0</td>\n",
       "      <td>7335.610589</td>\n",
       "    </tr>\n",
       "    <tr>\n",
       "      <td>22</td>\n",
       "      <td>6158.0</td>\n",
       "      <td>5900.502233</td>\n",
       "    </tr>\n",
       "    <tr>\n",
       "      <td>23</td>\n",
       "      <td>3853.0</td>\n",
       "      <td>2186.100901</td>\n",
       "    </tr>\n",
       "    <tr>\n",
       "      <td>24</td>\n",
       "      <td>3016.0</td>\n",
       "      <td>3379.958986</td>\n",
       "    </tr>\n",
       "  </tbody>\n",
       "</table>\n",
       "</div>"
      ],
      "text/plain": [
       "     Actual     Predicted\n",
       "0    5807.0   5549.708184\n",
       "1    2391.0   3244.474188\n",
       "2    4798.0   4793.604327\n",
       "3    7270.0   7108.148793\n",
       "4    9555.0   9319.175226\n",
       "5    5632.0   6049.932027\n",
       "6    5727.0   6592.676537\n",
       "7    6769.0   5660.162631\n",
       "8    7975.0   7766.877182\n",
       "9   16472.0  10407.654510\n",
       "10   5645.0   6061.617299\n",
       "11   5739.0   6509.785417\n",
       "12   8143.0   8840.868306\n",
       "13   7257.0   8066.531235\n",
       "14   6199.0   9270.652662\n",
       "15   7628.0   8231.896530\n",
       "16   7924.0   6310.470124\n",
       "17   5013.0   5422.468101\n",
       "18   5122.0   5532.536243\n",
       "19   3783.0   3749.706471\n",
       "20   2859.0   3336.719292\n",
       "21   6897.0   7335.610589\n",
       "22   6158.0   5900.502233\n",
       "23   3853.0   2186.100901\n",
       "24   3016.0   3379.958986"
      ]
     },
     "execution_count": 66,
     "metadata": {},
     "output_type": "execute_result"
    }
   ],
   "source": [
    "df = pd.DataFrame({'Actual': y_test, 'Predicted': y_pred})\n",
    "df1 = df.head(25)\n",
    "df1"
   ]
  },
  {
   "cell_type": "code",
   "execution_count": 67,
   "metadata": {
    "pycharm": {
     "name": "#%%\n"
    }
   },
   "outputs": [
    {
     "data": {
      "image/png": "[encoded data removed]",
      "text/plain": [
       "<Figure size 720x576 with 1 Axes>"
      ]
     },
     "metadata": {
      "needs_background": "light"
     },
     "output_type": "display_data"
    }
   ],
   "source": [
    "df1.plot(kind='bar',figsize=(10,8))\n",
    "plt.grid(which='major', linestyle='-', linewidth='0.5', color='green')\n",
    "plt.grid(which='minor', linestyle=':', linewidth='0.5', color='black')\n",
    "plt.show()"
   ]
  },
  {
   "cell_type": "code",
   "execution_count": 68,
   "metadata": {
    "pycharm": {
     "name": "#%%\n"
    }
   },
   "outputs": [
    {
     "name": "stdout",
     "output_type": "stream",
     "text": [
      "Mean Absolute Error: 707.1518183433064\n",
      "Mean Squared Error: 885891.0542328317\n",
      "Root Mean Squared Error: 941.2178569453682\n"
     ]
    }
   ],
   "source": [
    "print('Mean Absolute Error:', metrics.mean_absolute_error(y_test, y_pred))  \n",
    "print('Mean Squared Error:', metrics.mean_squared_error(y_test, y_pred))  \n",
    "print('Root Mean Squared Error:', np.sqrt(metrics.mean_squared_error(y_test, y_pred)))"
   ]
  },
  {
   "cell_type": "code",
   "execution_count": 69,
   "metadata": {
    "pycharm": {
     "name": "#%%\n"
    }
   },
   "outputs": [],
   "source": [
    "tofill = df_copy[df_copy[att].isnull()]\n",
    "tofill = tofill[useful]\n",
    "new = regressor.predict(tofill)\n",
    "df_copy.loc[df_copy[att].isnull(), att] = new"
   ]
  },
  {
   "cell_type": "code",
   "execution_count": 70,
   "metadata": {
    "pycharm": {
     "name": "#%%\n"
    }
   },
   "outputs": [
    {
     "data": {
      "text/plain": [
       "RefId                                   0\n",
       "IsBadBuy                                0\n",
       "PurchDate                               0\n",
       "Auction                                 0\n",
       "VehicleAge                              0\n",
       "Make                                    0\n",
       "Model                                   0\n",
       "Trim                                    0\n",
       "SubModel                                0\n",
       "Color                                   0\n",
       "Transmission                            0\n",
       "WheelType                               0\n",
       "VehOdo                                  0\n",
       "Nationality                             0\n",
       "Size                                    0\n",
       "TopThreeAmericanName                    0\n",
       "MMRAcquisitionAuctionAveragePrice       0\n",
       "MMRAcquisitionAuctionCleanPrice       657\n",
       "MMRAcquisitionRetailAveragePrice      657\n",
       "MMRAcquisitonRetailCleanPrice         657\n",
       "MMRCurrentAuctionAveragePrice         635\n",
       "MMRCurrentAuctionCleanPrice           635\n",
       "MMRCurrentRetailAveragePrice          635\n",
       "MMRCurrentRetailCleanPrice            635\n",
       "VNST                                    0\n",
       "VehBCost                                0\n",
       "IsOnlineSale                            0\n",
       "WarrantyCost                            0\n",
       "ModelSimple                             0\n",
       "Doors                                7836\n",
       "USRegion                                0\n",
       "dtype: int64"
      ]
     },
     "execution_count": 70,
     "metadata": {},
     "output_type": "execute_result"
    }
   ],
   "source": [
    "df_copy.isnull().sum()"
   ]
  },
  {
   "cell_type": "code",
   "execution_count": 71,
   "metadata": {
    "pycharm": {
     "name": "#%%\n"
    }
   },
   "outputs": [
    {
     "name": "stdout",
     "output_type": "stream",
     "text": [
      "Mean Absolute Error: 243.39692295460299\n",
      "Mean Squared Error: 102890.28734561606\n",
      "Root Mean Squared Error: 320.76515918287646\n",
      "Mean Absolute Error: 1150.2582212056382\n",
      "Mean Squared Error: 1530078.2607274991\n",
      "Root Mean Squared Error: 1236.963322304869\n",
      "Mean Absolute Error: 151.66603900808985\n",
      "Mean Squared Error: 73174.23927262238\n",
      "Root Mean Squared Error: 270.50737378604373\n",
      "Mean Absolute Error: 431.17912413641034\n",
      "Mean Squared Error: 443912.12676915753\n",
      "Root Mean Squared Error: 666.2673087951694\n",
      "Mean Absolute Error: 163.55042730594087\n",
      "Mean Squared Error: 52623.571358679634\n",
      "Root Mean Squared Error: 229.3982810717631\n",
      "Mean Absolute Error: 584.4423789119111\n",
      "Mean Squared Error: 615068.0412203565\n",
      "Root Mean Squared Error: 784.2627373657099\n",
      "Mean Absolute Error: 169.61720781202186\n",
      "Mean Squared Error: 76452.29459366701\n",
      "Root Mean Squared Error: 276.5000806395308\n"
     ]
    }
   ],
   "source": [
    "import numpy as np\n",
    "from sklearn.linear_model import LinearRegression\n",
    "\n",
    "to_estimate = ['MMRAcquisitionAuctionCleanPrice', 'MMRAcquisitionRetailAveragePrice', 'MMRAcquisitonRetailCleanPrice', 'MMRCurrentAuctionAveragePrice', 'MMRCurrentAuctionCleanPrice', 'MMRCurrentRetailAveragePrice', 'MMRCurrentRetailCleanPrice']\n",
    "useful = ['VehicleAge', 'VehOdo', 'VehBCost', 'WarrantyCost', att]\n",
    "\n",
    "for att in to_estimate:\n",
    "    nonull = df_copy.copy(deep=False).dropna()\n",
    "    \n",
    "    #for elim in useful:\n",
    "    #    nonull = nonull.drop(nonull[nonull[elim].isnull()].index) #elimino le righe dove qualche attributo utile è null\n",
    "    #nonull = nonull.drop(nonull[nonull[att].isnull()].index) #elimino le righe dove l'attributo che voglio calcolare non c'è\n",
    "    \n",
    "    X = nonull[useful].values\n",
    "    y = nonull[att].values\n",
    "    \n",
    "    X_train, X_test, y_train, y_test = train_test_split(X, y, test_size=0.2, random_state=0)\n",
    "    \n",
    "    regressor = LinearRegression()  \n",
    "    regressor.fit(X_train, y_train)\n",
    "    \n",
    "    y_pred = regressor.predict(X_test)\n",
    "    \n",
    "    print('Mean Absolute Error:', metrics.mean_absolute_error(y_test, y_pred))  \n",
    "    print('Mean Squared Error:', metrics.mean_squared_error(y_test, y_pred))  \n",
    "    print('Root Mean Squared Error:', np.sqrt(metrics.mean_squared_error(y_test, y_pred)))\n",
    "    \n",
    "    tofill = df_copy[df_copy[att].isnull()]\n",
    "    tofill = tofill[useful]\n",
    "    new = regressor.predict(tofill)\n",
    "    \n",
    "    df_copy.loc[df_copy[att].isnull(), att] = new #aggiorno i missing values con quelli che ho trovato\n",
    "    useful.append(att) #aggiungo l'attributo corretto alla lista degli attributi per la regressione lineare"
   ]
  },
  {
   "cell_type": "code",
   "execution_count": 72,
   "metadata": {
    "pycharm": {
     "name": "#%%\n"
    }
   },
   "outputs": [
    {
     "data": {
      "text/plain": [
       "RefId                                   0\n",
       "IsBadBuy                                0\n",
       "PurchDate                               0\n",
       "Auction                                 0\n",
       "VehicleAge                              0\n",
       "Make                                    0\n",
       "Model                                   0\n",
       "Trim                                    0\n",
       "SubModel                                0\n",
       "Color                                   0\n",
       "Transmission                            0\n",
       "WheelType                               0\n",
       "VehOdo                                  0\n",
       "Nationality                             0\n",
       "Size                                    0\n",
       "TopThreeAmericanName                    0\n",
       "MMRAcquisitionAuctionAveragePrice       0\n",
       "MMRAcquisitionAuctionCleanPrice         0\n",
       "MMRAcquisitionRetailAveragePrice        0\n",
       "MMRAcquisitonRetailCleanPrice           0\n",
       "MMRCurrentAuctionAveragePrice           0\n",
       "MMRCurrentAuctionCleanPrice             0\n",
       "MMRCurrentRetailAveragePrice            0\n",
       "MMRCurrentRetailCleanPrice              0\n",
       "VNST                                    0\n",
       "VehBCost                                0\n",
       "IsOnlineSale                            0\n",
       "WarrantyCost                            0\n",
       "ModelSimple                             0\n",
       "Doors                                7836\n",
       "USRegion                                0\n",
       "dtype: int64"
      ]
     },
     "execution_count": 72,
     "metadata": {},
     "output_type": "execute_result"
    }
   ],
   "source": [
    "df_copy.isnull().sum()"
   ]
  },
  {
   "cell_type": "markdown",
   "metadata": {},
   "source": [
    "##### Checking delle distribuzioni"
   ]
  },
  {
   "cell_type": "code",
   "execution_count": 73,
   "metadata": {
    "pycharm": {
     "name": "#%%\n"
    }
   },
   "outputs": [
    {
     "data": {
      "image/png": "[encoded data removed]",
      "text/plain": [
       "<Figure size 1080x2160 with 16 Axes>"
      ]
     },
     "metadata": {
      "needs_background": "light"
     },
     "output_type": "display_data"
    }
   ],
   "source": [
    "\"\"\"\n",
    "Considerazione su questi grafici: potete notare con df['NOME_ATTR'].value_counts() che ci sono molti valori a 0 \n",
    "per ognuno degli attributi qua sotto, pensavo che forse sarebbero da considerarsi nulli e quindi eliminarli oppure \n",
    "sostituirli con la media calcolata escludendoli.\n",
    "\"\"\"\n",
    "\n",
    "# Set up a grid of plots\n",
    "fig = plt.figure(figsize=(15, 30)) \n",
    "fig_dims = (8, 2)\n",
    "\n",
    "# Acquisition price for this vehicle in average condition at time of purchase\n",
    "plt.subplot2grid(fig_dims, (0, 0))\n",
    "df_copy['MMRAcquisitionAuctionAveragePrice'].plot(bins=30, kind='hist', title='MMRAcquisitionAuctionAveragePrice')\n",
    "plt.subplot2grid(fig_dims, (0, 1))\n",
    "df_full['MMRAcquisitionAuctionAveragePrice'].plot(bins=30, kind='hist', title='MMRAcquisitionAuctionAveragePrice')\n",
    "\n",
    "# Acquisition price for this vehicle in the above Average condition at time of purchase\n",
    "plt.subplot2grid(fig_dims, (1, 0))\n",
    "df_copy['MMRAcquisitionAuctionCleanPrice'].plot(kind='hist', bins=30, title='MMRAcquisitionAuctionCleanPrice')\n",
    "plt.subplot2grid(fig_dims, (1, 1))\n",
    "df_full['MMRAcquisitionAuctionCleanPrice'].plot(kind='hist', bins=30, title='MMRAcquisitionAuctionCleanPrice')\n",
    "\n",
    "# Acquisition price for this vehicle in the retail market in average condition at time of purchase\n",
    "plt.subplot2grid(fig_dims, (2, 0))\n",
    "df_copy['MMRAcquisitionRetailAveragePrice'].plot(kind='hist', bins=30, \n",
    "                                                           title='MMRAcquisitionRetailAveragePrice')\n",
    "plt.xticks(rotation=0)\n",
    "plt.subplot2grid(fig_dims, (2, 1))\n",
    "df_full['MMRAcquisitionRetailAveragePrice'].plot(kind='hist', bins=30, \n",
    "                                                           title='MMRAcquisitionRetailAveragePrice')\n",
    "plt.xticks(rotation=0)\n",
    "\n",
    "# Acquisition price for this vehicle in the retail market in above average condition at time of purchase\n",
    "plt.subplot2grid(fig_dims, (3, 0))\n",
    "df_copy['MMRAcquisitonRetailCleanPrice'].plot(kind='hist', bins=30, \n",
    "                                                        title='MMRAcquisitonRetailCleanPrice')\n",
    "plt.subplot2grid(fig_dims, (3, 1))\n",
    "df_full['MMRAcquisitonRetailCleanPrice'].plot(kind='hist', bins=30, \n",
    "                                                        title='MMRAcquisitonRetailCleanPrice')\n",
    "\n",
    "# Acquisition price for this vehicle in average condition as of current day\n",
    "plt.subplot2grid(fig_dims, (4, 0))\n",
    "df_copy['MMRCurrentAuctionAveragePrice'].plot(kind='hist', bins=30, \n",
    "                                                        title='MMRCurrentAuctionAveragePrice')\n",
    "plt.subplot2grid(fig_dims, (4, 1))\n",
    "df_full['MMRCurrentAuctionAveragePrice'].plot(kind='hist', bins=30, \n",
    "                                                        title='MMRCurrentAuctionAveragePrice')\n",
    "\n",
    "# Acquisition price for this vehicle in the above condition as of current day\n",
    "plt.subplot2grid(fig_dims, (5, 0))\n",
    "df_copy['MMRCurrentAuctionCleanPrice'].plot(kind='hist', bins=30, \n",
    "                                                        title='MMRCurrentAuctionCleanPrice')\n",
    "plt.subplot2grid(fig_dims, (5, 1))\n",
    "df_full['MMRCurrentAuctionCleanPrice'].plot(kind='hist', bins=30, \n",
    "                                                        title='MMRCurrentAuctionCleanPrice')\n",
    "\n",
    "# Acquisition price for this vehicle in the retail market in average condition as of current day\n",
    "plt.subplot2grid(fig_dims, (6, 0))\n",
    "df_copy['MMRCurrentRetailAveragePrice'].plot(kind='hist', bins=30, \n",
    "                                                        title='MMRCurrentRetailAveragePrice')\n",
    "plt.subplot2grid(fig_dims, (6, 1))\n",
    "df_full['MMRCurrentRetailAveragePrice'].plot(kind='hist', bins=30, \n",
    "                                                        title='MMRCurrentRetailAveragePrice')\n",
    "\n",
    "# Acquisition price for this vehicle in the retail market in above average condition as of current day\n",
    "plt.subplot2grid(fig_dims, (7, 0))\n",
    "df_copy['MMRCurrentRetailCleanPrice'].plot(kind='hist', bins=30, \n",
    "                                                        title='MMRCurrentRetailCleanPrice')\n",
    "plt.subplot2grid(fig_dims, (7, 1))\n",
    "df_full['MMRCurrentRetailCleanPrice'].plot(kind='hist', bins=30, \n",
    "                                                        title='MMRCurrentRetailCleanPrice')\n",
    "\n",
    "\n",
    "plt.show()"
   ]
  },
  {
   "cell_type": "code",
   "execution_count": 74,
   "metadata": {
    "pycharm": {
     "name": "#%%\n"
    }
   },
   "outputs": [],
   "source": [
    "df_copy.to_csv(index=False, path_or_buf='./data/training_ready_regression.csv')"
   ]
  },
  {
   "cell_type": "markdown",
   "metadata": {},
   "source": [
    "Sono stati trovati 7 missing value per color. Sono stati trasformati con la moda relativa al modello di riferimento del veicolo"
   ]
  },
  {
   "cell_type": "code",
   "execution_count": 75,
   "metadata": {
    "pycharm": {
     "name": "#%%\n"
    }
   },
   "outputs": [
    {
     "data": {
      "text/html": [
       "<div>\n",
       "<style scoped>\n",
       "    .dataframe tbody tr th:only-of-type {\n",
       "        vertical-align: middle;\n",
       "    }\n",
       "\n",
       "    .dataframe tbody tr th {\n",
       "        vertical-align: top;\n",
       "    }\n",
       "\n",
       "    .dataframe thead th {\n",
       "        text-align: right;\n",
       "    }\n",
       "</style>\n",
       "<table border=\"1\" class=\"dataframe\">\n",
       "  <thead>\n",
       "    <tr style=\"text-align: right;\">\n",
       "      <th></th>\n",
       "      <th>MMRAcquisitionAuctionAveragePrice</th>\n",
       "      <th>MMRAcquisitionAuctionCleanPrice</th>\n",
       "      <th>MMRAcquisitionRetailAveragePrice</th>\n",
       "      <th>MMRAcquisitonRetailCleanPrice</th>\n",
       "      <th>MMRCurrentAuctionAveragePrice</th>\n",
       "      <th>MMRCurrentAuctionCleanPrice</th>\n",
       "      <th>MMRCurrentRetailAveragePrice</th>\n",
       "      <th>MMRCurrentRetailCleanPrice</th>\n",
       "    </tr>\n",
       "  </thead>\n",
       "  <tbody>\n",
       "    <tr>\n",
       "      <td>count</td>\n",
       "      <td>57208.000000</td>\n",
       "      <td>57208.000000</td>\n",
       "      <td>57208.000000</td>\n",
       "      <td>57208.000000</td>\n",
       "      <td>57230.000000</td>\n",
       "      <td>57230.000000</td>\n",
       "      <td>57230.000000</td>\n",
       "      <td>57230.000000</td>\n",
       "    </tr>\n",
       "    <tr>\n",
       "      <td>mean</td>\n",
       "      <td>6189.401185</td>\n",
       "      <td>7446.953293</td>\n",
       "      <td>8585.069081</td>\n",
       "      <td>9953.504335</td>\n",
       "      <td>6165.924428</td>\n",
       "      <td>7431.539752</td>\n",
       "      <td>8828.419483</td>\n",
       "      <td>10205.639053</td>\n",
       "    </tr>\n",
       "    <tr>\n",
       "      <td>std</td>\n",
       "      <td>2373.573222</td>\n",
       "      <td>2606.661955</td>\n",
       "      <td>3029.534747</td>\n",
       "      <td>3223.838988</td>\n",
       "      <td>2379.114661</td>\n",
       "      <td>2612.967638</td>\n",
       "      <td>3004.094373</td>\n",
       "      <td>3200.720476</td>\n",
       "    </tr>\n",
       "    <tr>\n",
       "      <td>min</td>\n",
       "      <td>884.000000</td>\n",
       "      <td>1076.000000</td>\n",
       "      <td>1455.000000</td>\n",
       "      <td>1662.000000</td>\n",
       "      <td>369.000000</td>\n",
       "      <td>494.000000</td>\n",
       "      <td>899.000000</td>\n",
       "      <td>1034.000000</td>\n",
       "    </tr>\n",
       "    <tr>\n",
       "      <td>25%</td>\n",
       "      <td>4327.000000</td>\n",
       "      <td>5467.000000</td>\n",
       "      <td>6358.000000</td>\n",
       "      <td>7550.000000</td>\n",
       "      <td>4303.000000</td>\n",
       "      <td>5447.000000</td>\n",
       "      <td>6576.000000</td>\n",
       "      <td>7829.250000</td>\n",
       "    </tr>\n",
       "    <tr>\n",
       "      <td>50%</td>\n",
       "      <td>6124.000000</td>\n",
       "      <td>7340.000000</td>\n",
       "      <td>8481.000000</td>\n",
       "      <td>9837.000000</td>\n",
       "      <td>6074.000000</td>\n",
       "      <td>7324.000000</td>\n",
       "      <td>8756.000000</td>\n",
       "      <td>10118.000000</td>\n",
       "    </tr>\n",
       "    <tr>\n",
       "      <td>75%</td>\n",
       "      <td>7786.000000</td>\n",
       "      <td>9042.000000</td>\n",
       "      <td>10677.000000</td>\n",
       "      <td>12111.000000</td>\n",
       "      <td>7749.000000</td>\n",
       "      <td>9025.000000</td>\n",
       "      <td>10922.000000</td>\n",
       "      <td>12321.000000</td>\n",
       "    </tr>\n",
       "    <tr>\n",
       "      <td>max</td>\n",
       "      <td>35722.000000</td>\n",
       "      <td>36859.000000</td>\n",
       "      <td>39080.000000</td>\n",
       "      <td>40308.000000</td>\n",
       "      <td>35722.000000</td>\n",
       "      <td>36859.000000</td>\n",
       "      <td>39080.000000</td>\n",
       "      <td>40308.000000</td>\n",
       "    </tr>\n",
       "  </tbody>\n",
       "</table>\n",
       "</div>"
      ],
      "text/plain": [
       "       MMRAcquisitionAuctionAveragePrice  MMRAcquisitionAuctionCleanPrice  \\\n",
       "count                       57208.000000                     57208.000000   \n",
       "mean                         6189.401185                      7446.953293   \n",
       "std                          2373.573222                      2606.661955   \n",
       "min                           884.000000                      1076.000000   \n",
       "25%                          4327.000000                      5467.000000   \n",
       "50%                          6124.000000                      7340.000000   \n",
       "75%                          7786.000000                      9042.000000   \n",
       "max                         35722.000000                     36859.000000   \n",
       "\n",
       "       MMRAcquisitionRetailAveragePrice  MMRAcquisitonRetailCleanPrice  \\\n",
       "count                      57208.000000                   57208.000000   \n",
       "mean                        8585.069081                    9953.504335   \n",
       "std                         3029.534747                    3223.838988   \n",
       "min                         1455.000000                    1662.000000   \n",
       "25%                         6358.000000                    7550.000000   \n",
       "50%                         8481.000000                    9837.000000   \n",
       "75%                        10677.000000                   12111.000000   \n",
       "max                        39080.000000                   40308.000000   \n",
       "\n",
       "       MMRCurrentAuctionAveragePrice  MMRCurrentAuctionCleanPrice  \\\n",
       "count                   57230.000000                 57230.000000   \n",
       "mean                     6165.924428                  7431.539752   \n",
       "std                      2379.114661                  2612.967638   \n",
       "min                       369.000000                   494.000000   \n",
       "25%                      4303.000000                  5447.000000   \n",
       "50%                      6074.000000                  7324.000000   \n",
       "75%                      7749.000000                  9025.000000   \n",
       "max                     35722.000000                 36859.000000   \n",
       "\n",
       "       MMRCurrentRetailAveragePrice  MMRCurrentRetailCleanPrice  \n",
       "count                  57230.000000                57230.000000  \n",
       "mean                    8828.419483                10205.639053  \n",
       "std                     3004.094373                 3200.720476  \n",
       "min                      899.000000                 1034.000000  \n",
       "25%                     6576.000000                 7829.250000  \n",
       "50%                     8756.000000                10118.000000  \n",
       "75%                    10922.000000                12321.000000  \n",
       "max                    39080.000000                40308.000000  "
      ]
     },
     "execution_count": 75,
     "metadata": {},
     "output_type": "execute_result"
    }
   ],
   "source": [
    "stats_with_missing"
   ]
  },
  {
   "cell_type": "markdown",
   "metadata": {},
   "source": [
    "Per 47 valori non è possibile calcolare la moda, data l'assenza del valore di Trim. È stato inoltre trovato un valore unico di Trim = JLX e quindi non è possibile identificare una moda neanche per quel valore."
   ]
  },
  {
   "cell_type": "code",
   "execution_count": 76,
   "metadata": {},
   "outputs": [
    {
     "data": {
      "text/html": [
       "<div>\n",
       "<style scoped>\n",
       "    .dataframe tbody tr th:only-of-type {\n",
       "        vertical-align: middle;\n",
       "    }\n",
       "\n",
       "    .dataframe tbody tr th {\n",
       "        vertical-align: top;\n",
       "    }\n",
       "\n",
       "    .dataframe thead th {\n",
       "        text-align: right;\n",
       "    }\n",
       "</style>\n",
       "<table border=\"1\" class=\"dataframe\">\n",
       "  <thead>\n",
       "    <tr style=\"text-align: right;\">\n",
       "      <th></th>\n",
       "      <th>MMRAcquisitionAuctionAveragePrice</th>\n",
       "      <th>MMRAcquisitionAuctionCleanPrice</th>\n",
       "      <th>MMRAcquisitionRetailAveragePrice</th>\n",
       "      <th>MMRAcquisitonRetailCleanPrice</th>\n",
       "      <th>MMRCurrentAuctionAveragePrice</th>\n",
       "      <th>MMRCurrentAuctionCleanPrice</th>\n",
       "      <th>MMRCurrentRetailAveragePrice</th>\n",
       "      <th>MMRCurrentRetailCleanPrice</th>\n",
       "      <th>VehBCost</th>\n",
       "    </tr>\n",
       "  </thead>\n",
       "  <tbody>\n",
       "    <tr>\n",
       "      <td>count</td>\n",
       "      <td>57865.000000</td>\n",
       "      <td>57865.000000</td>\n",
       "      <td>57865.000000</td>\n",
       "      <td>57865.000000</td>\n",
       "      <td>57865.000000</td>\n",
       "      <td>57865.000000</td>\n",
       "      <td>57865.000000</td>\n",
       "      <td>57865.000000</td>\n",
       "      <td>57865.000000</td>\n",
       "    </tr>\n",
       "    <tr>\n",
       "      <td>mean</td>\n",
       "      <td>6190.989732</td>\n",
       "      <td>7448.482525</td>\n",
       "      <td>8587.130625</td>\n",
       "      <td>9955.472059</td>\n",
       "      <td>6166.395469</td>\n",
       "      <td>7430.931281</td>\n",
       "      <td>8825.472052</td>\n",
       "      <td>10201.566518</td>\n",
       "      <td>6718.839955</td>\n",
       "    </tr>\n",
       "    <tr>\n",
       "      <td>std</td>\n",
       "      <td>2369.255790</td>\n",
       "      <td>2601.545887</td>\n",
       "      <td>3022.200288</td>\n",
       "      <td>3215.972626</td>\n",
       "      <td>2375.685733</td>\n",
       "      <td>2608.479225</td>\n",
       "      <td>2999.169099</td>\n",
       "      <td>3195.007366</td>\n",
       "      <td>1749.418789</td>\n",
       "    </tr>\n",
       "    <tr>\n",
       "      <td>min</td>\n",
       "      <td>-460.903272</td>\n",
       "      <td>237.398105</td>\n",
       "      <td>930.814371</td>\n",
       "      <td>1662.000000</td>\n",
       "      <td>369.000000</td>\n",
       "      <td>494.000000</td>\n",
       "      <td>899.000000</td>\n",
       "      <td>1034.000000</td>\n",
       "      <td>1.000000</td>\n",
       "    </tr>\n",
       "    <tr>\n",
       "      <td>25%</td>\n",
       "      <td>4334.000000</td>\n",
       "      <td>5475.000000</td>\n",
       "      <td>6361.000000</td>\n",
       "      <td>7561.000000</td>\n",
       "      <td>4307.000000</td>\n",
       "      <td>5450.000000</td>\n",
       "      <td>6578.000000</td>\n",
       "      <td>7830.000000</td>\n",
       "      <td>5425.000000</td>\n",
       "    </tr>\n",
       "    <tr>\n",
       "      <td>50%</td>\n",
       "      <td>6126.000000</td>\n",
       "      <td>7344.000000</td>\n",
       "      <td>8484.000000</td>\n",
       "      <td>9841.000000</td>\n",
       "      <td>6074.000000</td>\n",
       "      <td>7324.000000</td>\n",
       "      <td>8755.000000</td>\n",
       "      <td>10115.000000</td>\n",
       "      <td>6700.000000</td>\n",
       "    </tr>\n",
       "    <tr>\n",
       "      <td>75%</td>\n",
       "      <td>7785.000000</td>\n",
       "      <td>9041.000000</td>\n",
       "      <td>10670.000000</td>\n",
       "      <td>12106.000000</td>\n",
       "      <td>7750.673185</td>\n",
       "      <td>9022.000000</td>\n",
       "      <td>10919.000000</td>\n",
       "      <td>12311.000000</td>\n",
       "      <td>7900.000000</td>\n",
       "    </tr>\n",
       "    <tr>\n",
       "      <td>max</td>\n",
       "      <td>35722.000000</td>\n",
       "      <td>36859.000000</td>\n",
       "      <td>39080.000000</td>\n",
       "      <td>40308.000000</td>\n",
       "      <td>35722.000000</td>\n",
       "      <td>36859.000000</td>\n",
       "      <td>39080.000000</td>\n",
       "      <td>40308.000000</td>\n",
       "      <td>35900.000000</td>\n",
       "    </tr>\n",
       "  </tbody>\n",
       "</table>\n",
       "</div>"
      ],
      "text/plain": [
       "       MMRAcquisitionAuctionAveragePrice  MMRAcquisitionAuctionCleanPrice  \\\n",
       "count                       57865.000000                     57865.000000   \n",
       "mean                         6190.989732                      7448.482525   \n",
       "std                          2369.255790                      2601.545887   \n",
       "min                          -460.903272                       237.398105   \n",
       "25%                          4334.000000                      5475.000000   \n",
       "50%                          6126.000000                      7344.000000   \n",
       "75%                          7785.000000                      9041.000000   \n",
       "max                         35722.000000                     36859.000000   \n",
       "\n",
       "       MMRAcquisitionRetailAveragePrice  MMRAcquisitonRetailCleanPrice  \\\n",
       "count                      57865.000000                   57865.000000   \n",
       "mean                        8587.130625                    9955.472059   \n",
       "std                         3022.200288                    3215.972626   \n",
       "min                          930.814371                    1662.000000   \n",
       "25%                         6361.000000                    7561.000000   \n",
       "50%                         8484.000000                    9841.000000   \n",
       "75%                        10670.000000                   12106.000000   \n",
       "max                        39080.000000                   40308.000000   \n",
       "\n",
       "       MMRCurrentAuctionAveragePrice  MMRCurrentAuctionCleanPrice  \\\n",
       "count                   57865.000000                 57865.000000   \n",
       "mean                     6166.395469                  7430.931281   \n",
       "std                      2375.685733                  2608.479225   \n",
       "min                       369.000000                   494.000000   \n",
       "25%                      4307.000000                  5450.000000   \n",
       "50%                      6074.000000                  7324.000000   \n",
       "75%                      7750.673185                  9022.000000   \n",
       "max                     35722.000000                 36859.000000   \n",
       "\n",
       "       MMRCurrentRetailAveragePrice  MMRCurrentRetailCleanPrice      VehBCost  \n",
       "count                  57865.000000                57865.000000  57865.000000  \n",
       "mean                    8825.472052                10201.566518   6718.839955  \n",
       "std                     2999.169099                 3195.007366   1749.418789  \n",
       "min                      899.000000                 1034.000000      1.000000  \n",
       "25%                     6578.000000                 7830.000000   5425.000000  \n",
       "50%                     8755.000000                10115.000000   6700.000000  \n",
       "75%                    10919.000000                12311.000000   7900.000000  \n",
       "max                    39080.000000                40308.000000  35900.000000  "
      ]
     },
     "execution_count": 76,
     "metadata": {},
     "output_type": "execute_result"
    }
   ],
   "source": [
    "df_copy[['MMRAcquisitionAuctionAveragePrice', 'MMRAcquisitionAuctionCleanPrice', 'MMRAcquisitionRetailAveragePrice', \n",
    "    'MMRAcquisitonRetailCleanPrice', 'MMRCurrentAuctionAveragePrice', 'MMRCurrentAuctionCleanPrice',\n",
    "    'MMRCurrentRetailAveragePrice', 'MMRCurrentRetailCleanPrice', 'VehBCost']].describe()\n"
   ]
  },
  {
   "cell_type": "code",
   "execution_count": null,
   "metadata": {
    "pycharm": {
     "name": "#%%\n"
    }
   },
   "outputs": [],
   "source": []
  },
  {
   "cell_type": "code",
   "execution_count": null,
   "metadata": {
    "pycharm": {
     "name": "#%%\n"
    }
   },
   "outputs": [],
   "source": []
  }
 ],
 "metadata": {
  "kernelspec": {
   "display_name": "Python 3",
   "language": "python",
   "name": "python3"
  },
  "language_info": {
   "codemirror_mode": {
    "name": "ipython",
    "version": 3
   },
   "file_extension": ".py",
   "mimetype": "text/x-python",
   "name": "python",
   "nbconvert_exporter": "python",
   "pygments_lexer": "ipython3",
   "version": "3.7.4"
  },
  "pycharm": {
   "stem_cell": {
    "cell_type": "raw",
    "metadata": {
     "collapsed": false
    },
    "source": []
   }
  }
 },
 "nbformat": 4,
 "nbformat_minor": 1
}
